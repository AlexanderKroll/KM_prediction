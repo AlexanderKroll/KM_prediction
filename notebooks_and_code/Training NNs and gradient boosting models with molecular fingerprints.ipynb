{
 "cells": [
  {
   "cell_type": "markdown",
   "metadata": {},
   "source": [
    "# Content of the notebook"
   ]
  },
  {
   "cell_type": "markdown",
   "metadata": {},
   "source": [
    "This notebook contains all steps to train KM prediction models (fully-connected neural networks and gradient boosting models) with extended-connectivity fingerprints, MACCS keys fingerprints, RDKit fingerpints, and task-specific (generated with the GNN) fingerprints as inputs. The notebook consists of the following steps:"
   ]
  },
  {
   "cell_type": "markdown",
   "metadata": {},
   "source": [
    "1. Loading training and test data data\"\n",
    "2. Training Neural Networks and Gradient Boosting models for all four fingerprints\n",
    "3. Comparing the performance of the four different fingerprints and plotting figure 2 of our paper"
   ]
  },
  {
   "cell_type": "markdown",
   "metadata": {},
   "source": [
    "All datasets are stored in one directory. The location of this directory can be changed (to the corresponding path on your PC) in the python file \"directory_infomation.py\"."
   ]
  },
  {
   "cell_type": "markdown",
   "metadata": {},
   "source": [
    "Loading all the necessary packages and functions to execute the code:"
   ]
  },
  {
   "cell_type": "code",
   "execution_count": 3,
   "metadata": {},
   "outputs": [],
   "source": [
    "import warnings\n",
    "warnings.filterwarnings('ignore')\n",
    "\n",
    "import pandas as pd\n",
    "import matplotlib.pyplot as plt\n",
    "import matplotlib as mpl\n",
    "plt.style.use('CCB_plot_style_0v4.mplstyle')\n",
    "c_styles      = mpl.rcParams['axes.prop_cycle'].by_key()['color']   # fetch the defined color styles\n",
    "high_contrast = ['#004488', '#DDAA33', '#BB5566', '#000000']        # define a high contrast color scheme\n",
    "\n",
    "import numpy as np\n",
    "import pickle\n",
    "import os\n",
    "from os.path import join\n",
    "from sklearn.metrics import r2_score\n",
    "import xgboost as xgb\n",
    "from hyperopt import fmin, tpe, hp, Trials\n",
    "\n",
    "\n",
    "from directory_infomation import *\n",
    "from build_FCNN_and_load_FPs import *"
   ]
  },
  {
   "cell_type": "markdown",
   "metadata": {},
   "source": [
    "## 1. Loading training and test data"
   ]
  },
  {
   "cell_type": "code",
   "execution_count": 4,
   "metadata": {},
   "outputs": [],
   "source": [
    "brenda_train = pd.read_pickle(join(datasets_dir, \"splits\", \"training_data.pkl\"))\n",
    "brenda_train = brenda_train.loc[~pd.isnull(brenda_train[\"GNN FP\"])]\n",
    "[train_ECFP, train_RDKIT, train_MACCS, train_GNN, train_Y, train_indices] = create_input_and_output_data_FCNN(df = brenda_train)\n",
    "\n",
    "brenda_test = pd.read_pickle(join(datasets_dir, \"splits\", \"test_data.pkl\"))\n",
    "brenda_test = brenda_test.loc[~pd.isnull(brenda_test[\"GNN FP\"])]\n",
    "[test_ECFP, test_RDKIT, test_MACCS, test_GNN, test_Y, test_indices] = create_input_and_output_data_FCNN(df = brenda_test)\n",
    "\n",
    "\n",
    "with open(join(datasets_dir, \"splits\", \"CV_indices_test\"), 'rb') as fp:\n",
    "    CV_indices_test = pickle.load(fp)\n",
    "    \n",
    "with open(join(datasets_dir, \"splits\", \"CV_indices_train\"), 'rb') as fp:\n",
    "    CV_indices_train = pickle.load(fp)"
   ]
  },
  {
   "cell_type": "markdown",
   "metadata": {},
   "source": [
    "Adding MW and LogP to all fingerprints:"
   ]
  },
  {
   "cell_type": "code",
   "execution_count": 3,
   "metadata": {},
   "outputs": [
    {
     "data": {
      "text/plain": [
       "2"
      ]
     },
     "execution_count": 3,
     "metadata": {},
     "output_type": "execute_result"
    }
   ],
   "source": [
    "mw_logp_train = train_GNN[:, 51:]\n",
    "mw_logp_test = test_GNN[:, 51:]\n",
    "\n",
    "train_ECFP = np.concatenate([train_ECFP, mw_logp_train], axis =1)\n",
    "test_ECFP = np.concatenate([test_ECFP, mw_logp_test], axis =1)\n",
    "\n",
    "train_RDKIT = np.concatenate([train_RDKIT, mw_logp_train], axis =1)\n",
    "test_RDKIT = np.concatenate([test_RDKIT, mw_logp_test], axis =1)\n",
    "\n",
    "train_MACCS = np.concatenate([train_MACCS, mw_logp_train], axis =1)\n",
    "test_MACCS = np.concatenate([test_MACCS, mw_logp_test], axis =1)\n"
   ]
  },
  {
   "cell_type": "markdown",
   "metadata": {},
   "source": [
    "## 2. Training Neural Networks and Gradient Boosting models for all four fingerprints"
   ]
  },
  {
   "cell_type": "markdown",
   "metadata": {},
   "source": [
    "### (a)  Performing hyperparameter optimization for all three different fingerprints with a 5-fold Cross Validation on the training set:"
   ]
  },
  {
   "cell_type": "markdown",
   "metadata": {},
   "source": [
    "We perform a hyperparameter search for all four different fingerprints with a 5-fold Cross Validation on the training set:"
   ]
  },
  {
   "cell_type": "markdown",
   "metadata": {},
   "source": [
    "#### (i) Fully Connected Neural Netowrks"
   ]
  },
  {
   "cell_type": "code",
   "execution_count": 4,
   "metadata": {},
   "outputs": [],
   "source": [
    "'''\n",
    "space = {\"learning_rate\": hp.uniform(\"learning_rate\", 1e-5, 1e-1),\n",
    "        \"hidden_layer_size1\": hp.choice(\"hidden_layer_size1\", [256,128,64]),\n",
    "        \"hidden_layer_size2\": hp.choice(\"hidden_layer_size2\", [128,64,32]),\n",
    "        \"batch_size\": hp.choice(\"batch_size\", [8,16,32,64,96]),\n",
    "        \"decay\": hp.uniform(\"decay\", 1e-9, 1e-5),\n",
    "        \"l2_parameter\": hp.uniform(\"l2_parameter\", 0, 5),\n",
    "        \"momentum\": hp.uniform(\"momentum\", 0.1, 1),\n",
    "        \"num_epochs\": hp.uniform(\"max_delta_step\", 30, 150)}\n",
    "    \n",
    "trials = Trials()\n",
    "best = fmin(fn = cross_validation_mse_ecfp, space = space, algo=tpe.suggest, max_evals= 500, trials=trials)''';"
   ]
  },
  {
   "cell_type": "code",
   "execution_count": 5,
   "metadata": {},
   "outputs": [],
   "source": [
    "'''\n",
    "space = {\"learning_rate\": hp.uniform(\"learning_rate\", 1e-5, 1e-1),\n",
    "    \"hidden_layer_size1\": hp.choice(\"hidden_layer_size1\",[128,64,32]),\n",
    "    \"hidden_layer_size2\": hp.choice(\"hidden_layer_size2\", [64,32,16]),\n",
    "    \"batch_size\": hp.choice(\"batch_size\", [8,16,32,64,96]),\n",
    "    \"decay\": hp.uniform(\"decay\", 1e-9, 1e-5),\n",
    "    \"l2_parameter\": hp.uniform(\"l2_parameter\", 0, 5),\n",
    "    \"momentum\": hp.uniform(\"momentum\", 0.1, 1),\n",
    "    \"num_epochs\": hp.uniform(\"max_delta_step\", 30, 150)}\n",
    "\n",
    "trials = Trials()\n",
    "best = fmin(fn = cross_validation_mse_maccs, space = space, algo=tpe.suggest, max_evals = 500, trials=trials)''';"
   ]
  },
  {
   "cell_type": "code",
   "execution_count": 6,
   "metadata": {},
   "outputs": [],
   "source": [
    "'''\n",
    "space = {\"learning_rate\": hp.uniform(\"learning_rate\", 1e-5, 1e-1),\n",
    "    \"hidden_layer_size1\": hp.choice(\"hidden_layer_size1\", [256,128,64]),\n",
    "    \"hidden_layer_size2\": hp.choice(\"hidden_layer_size2\", [128,64,32]),\n",
    "    \"batch_size\": hp.choice(\"batch_size\", [8,16,32,64,96]),\n",
    "    \"decay\": hp.uniform(\"decay\", 1e-9, 1e-5),\n",
    "    \"l2_parameter\": hp.uniform(\"l2_parameter\", 0, 5),\n",
    "    \"momentum\": hp.uniform(\"momentum\", 0.1, 1),\n",
    "    \"num_epochs\": hp.uniform(\"max_delta_step\", 30, 150)}\n",
    "\n",
    "trials = Trials()\n",
    "best = fmin(fn = cross_validation_mse_rdkit, space = space, algo=tpe.suggest, max_evals = 500, trials=trials)''';"
   ]
  },
  {
   "cell_type": "code",
   "execution_count": 7,
   "metadata": {},
   "outputs": [],
   "source": [
    "'''\n",
    "space = {\"learning_rate\": hp.uniform(\"learning_rate\", 1e-5, 1e-1),\n",
    "    \"hidden_layer_size1\": hp.choice(\"hidden_layer_size1\", [64,32,16]),\n",
    "    \"hidden_layer_size2\": hp.choice(\"hidden_layer_size2\", [32,16,8]),\n",
    "    \"batch_size\": hp.choice(\"batch_size\", [8,16,32,64,96,128]),\n",
    "    \"decay\": hp.uniform(\"decay\", 1e-9, 1e-5),\n",
    "    \"l2_parameter\": hp.uniform(\"l2_parameter\", 0, 5),\n",
    "    \"momentum\": hp.uniform(\"momentum\", 0.1, 1),\n",
    "    \"num_epochs\": hp.uniform(\"num_epochs\", 30, 150),\n",
    "    \"third_layer\" : hp.choice(\"third_layer\", [True, False])}\n",
    "\n",
    "trials = Trials()\n",
    "best = fmin(fn = cross_validation_mse_gnn, space = space, algo=tpe.suggest, max_evals = 500, trials=trials)''';"
   ]
  },
  {
   "cell_type": "markdown",
   "metadata": {},
   "source": [
    "#### (i) Gradient boosting models"
   ]
  },
  {
   "cell_type": "markdown",
   "metadata": {},
   "source": [
    "Defining the search space:"
   ]
  },
  {
   "cell_type": "code",
   "execution_count": 8,
   "metadata": {},
   "outputs": [],
   "source": [
    "space_gradient_boosting = {\"learning_rate\": hp.uniform(\"learning_rate\", 0.01, 1),\n",
    "    \"max_depth\": hp.uniform(\"max_depth\", 2, 7),\n",
    "    \"reg_lambda\": hp.uniform(\"reg_lambda\", 0, 5),\n",
    "    \"reg_alpha\": hp.uniform(\"reg_alpha\", 0, 5),\n",
    "    \"max_delta_step\": hp.uniform(\"max_delta_step\", 0, 5),\n",
    "    \"min_child_weight\": hp.uniform(\"min_child_weight\", 0.1, 15),\n",
    "    \"num_rounds\":  hp.uniform(\"num_rounds\", 30, 500)}"
   ]
  },
  {
   "cell_type": "markdown",
   "metadata": {},
   "source": [
    "Hyperparameter optimization:"
   ]
  },
  {
   "cell_type": "code",
   "execution_count": 9,
   "metadata": {
    "scrolled": true
   },
   "outputs": [],
   "source": [
    "'''\n",
    "trials = Trials()\n",
    "best = fmin(fn = cross_validation_mse_gradient_boosting_ecfp, space = space_gradient_boosting,\n",
    "            algo=tpe.suggest, max_evals = 200, trials=trials)''';"
   ]
  },
  {
   "cell_type": "code",
   "execution_count": 10,
   "metadata": {
    "scrolled": true
   },
   "outputs": [],
   "source": [
    "'''trials = Trials()\n",
    "best = fmin(fn = cross_validation_mse_gradient_boosting_maccs, space = space_gradient_boosting,\n",
    "            algo=tpe.suggest, max_evals = 200, trials=trials)''';"
   ]
  },
  {
   "cell_type": "code",
   "execution_count": 11,
   "metadata": {
    "scrolled": true
   },
   "outputs": [],
   "source": [
    "'''trials = Trials()\n",
    "best = fmin(fn = cross_validation_mse_gradient_boosting_rdkit, space = space_gradient_boosting,\n",
    "            algo=tpe.suggest, max_evals = 200, trials=trials)''';"
   ]
  },
  {
   "cell_type": "code",
   "execution_count": 12,
   "metadata": {},
   "outputs": [],
   "source": [
    "'''trials = Trials()\n",
    "best = fmin(fn = cross_validation_mse_gradient_boosting_gnn, space = space_gradient_boosting,\n",
    "            algo=tpe.suggest, max_evals = 200, trials=trials)''';"
   ]
  },
  {
   "cell_type": "markdown",
   "metadata": {},
   "source": [
    "### (b) Training the models with the best set of found hyperparameters:"
   ]
  },
  {
   "cell_type": "markdown",
   "metadata": {},
   "source": [
    "For all four fingerprints, the Gradient Boosting model performed better than the Neural Network. Therefore, for each Fingerprint we are training the Gradient Boosting model with the best set of hyperparameters:"
   ]
  },
  {
   "cell_type": "markdown",
   "metadata": {},
   "source": [
    "#### (i) Morgan ECFPs:"
   ]
  },
  {
   "cell_type": "markdown",
   "metadata": {},
   "source": [
    "Repeat Cross-Validation:"
   ]
  },
  {
   "cell_type": "code",
   "execution_count": 78,
   "metadata": {},
   "outputs": [
    {
     "name": "stdout",
     "output_type": "stream",
     "text": [
      "[0.9088630245552416, 0.8255313897054934, 0.8596503150675787, 0.861651385068267, 0.8533668753743515]\n",
      "[0.36724161118373344, 0.40196954250285777, 0.386331700353879, 0.37696625085076385, 0.3642439369345516]\n"
     ]
    }
   ],
   "source": [
    "best_ecfp_param = {'learning_rate': 0.17961672743999327,\n",
    "                   'max_delta_step': 0.541592858971679,\n",
    "                   'max_depth': 5.2483897992786845,\n",
    "                   'min_child_weight': 14.71725105729986,\n",
    "                   'num_rounds': 356.1010382190816,\n",
    "                   'reg_alpha': 4.677518807102969,\n",
    "                   'reg_lambda': 2.577891289401163}\n",
    "\n",
    "param = best_ecfp_param\n",
    "num_round = param[\"num_rounds\"]\n",
    "param[\"max_depth\"] = int(np.round(param[\"max_depth\"]))\n",
    "\n",
    "del param[\"num_rounds\"]\n",
    "\n",
    "R2 = []\n",
    "MSE = []\n",
    "\n",
    "for i in range(5):\n",
    "    train_index, test_index  = CV_indices_train[i], CV_indices_test[i]\n",
    "    train_index = [True if ind in train_index else False for ind in list(brenda_train.index)]\n",
    "    test_index = [True if ind in test_index else False for ind in list(brenda_train.index)]\n",
    "    \n",
    "    dtrain = xgb.DMatrix(train_ECFP[train_index], label = train_Y[train_index])\n",
    "    dvalid = xgb.DMatrix(train_ECFP[test_index])\n",
    "    \n",
    "    bst = xgb.train(param, dtrain, int(num_round), verbose_eval=False)\n",
    "    \n",
    "    y_valid_pred = bst.predict(dvalid)\n",
    "    MSE.append(np.mean(abs(np.reshape(train_Y[test_index], (-1)) - y_valid_pred)**2))\n",
    "    R2.append(r2_score(np.reshape(train_Y[test_index], (-1)), y_valid_pred))\n",
    "    \n",
    "MSE_ECFP = MSE\n",
    "R2_ECFP = R2\n",
    "print(MSE)\n",
    "print(R2)"
   ]
  },
  {
   "cell_type": "markdown",
   "metadata": {},
   "source": [
    "Train on whole training data set and validate on test set:"
   ]
  },
  {
   "cell_type": "code",
   "execution_count": 79,
   "metadata": {
    "scrolled": true
   },
   "outputs": [
    {
     "name": "stdout",
     "output_type": "stream",
     "text": [
      "0.8326369525829513 0.39754653536435347\n"
     ]
    }
   ],
   "source": [
    "dtrain = xgb.DMatrix(train_ECFP, label = train_Y)\n",
    "dtest = xgb.DMatrix(test_ECFP)\n",
    "\n",
    "bst = xgb.train(param, dtrain, int(num_round), verbose_eval=False)\n",
    "\n",
    "y_test_pred = bst.predict(dtest)\n",
    "MSE_ECFP_test = np.mean(abs(np.reshape(test_Y, (-1)) - y_test_pred)**2)\n",
    "R2_ECFP_test = r2_score(np.reshape(test_Y, (-1)), y_test_pred)\n",
    "absolute_errors_ECFP = abs(np.reshape(test_Y, (-1)) - y_test_pred)\n",
    "\n",
    "print(MSE_ECFP_test, R2_ECFP_test)"
   ]
  },
  {
   "cell_type": "markdown",
   "metadata": {},
   "source": [
    "#### (ii) RDKit Fingerprint:"
   ]
  },
  {
   "cell_type": "markdown",
   "metadata": {},
   "source": [
    "Repeat cross validation:"
   ]
  },
  {
   "cell_type": "code",
   "execution_count": 80,
   "metadata": {},
   "outputs": [
    {
     "name": "stdout",
     "output_type": "stream",
     "text": [
      "[0.9058947621287066, 0.841221250621057, 0.8664122868588362, 0.8417153331176507, 0.8559646100451503]\n",
      "[0.3693081414527113, 0.3906035123089625, 0.3815046123406909, 0.39138139995313814, 0.3623086314816991]\n"
     ]
    }
   ],
   "source": [
    "best_rdkit_param =  {'learning_rate': 0.08080539993579965,\n",
    "                     'max_delta_step': 0.5563363519825201,\n",
    "                     'max_depth': 6.106661180002159,\n",
    "                     'min_child_weight': 12.946306298352344,\n",
    "                     'num_rounds': 205.64790226508674,\n",
    "                     'reg_alpha': 4.205629205102807,\n",
    "                     'reg_lambda': 1.7165448547821038}\n",
    "\n",
    "param = best_rdkit_param\n",
    "num_round = param[\"num_rounds\"]\n",
    "del param[\"num_rounds\"]\n",
    "\n",
    "param[\"max_depth\"] = int(np.round(param[\"max_depth\"]))\n",
    "\n",
    "R2 = []\n",
    "MSE = []\n",
    "\n",
    "for i in range(5):\n",
    "    train_index, test_index  = CV_indices_train[i], CV_indices_test[i]\n",
    "    train_index = [True if ind in train_index else False for ind in list(brenda_train.index)]\n",
    "    test_index = [True if ind in test_index else False for ind in list(brenda_train.index)]\n",
    "    \n",
    "    dtrain = xgb.DMatrix(train_RDKIT[train_index], label = train_Y[train_index])\n",
    "    dvalid = xgb.DMatrix(train_RDKIT[test_index])\n",
    "    \n",
    "    bst = xgb.train(param, dtrain, int(num_round), verbose_eval=False)\n",
    "    \n",
    "    y_valid_pred = bst.predict(dvalid)\n",
    "    MSE.append(np.mean(abs(np.reshape(train_Y[test_index], (-1)) - y_valid_pred)**2))\n",
    "    R2.append(r2_score(np.reshape(train_Y[test_index], (-1)), y_valid_pred))\n",
    "    \n",
    "MSE_RDKIT = MSE\n",
    "R2_RDKIT = R2\n",
    "print(MSE)\n",
    "print(R2)"
   ]
  },
  {
   "cell_type": "markdown",
   "metadata": {},
   "source": [
    "Train on whole training data set and validate on test set:"
   ]
  },
  {
   "cell_type": "code",
   "execution_count": 81,
   "metadata": {},
   "outputs": [
    {
     "name": "stdout",
     "output_type": "stream",
     "text": [
      "0.8323001987933114 0.3977901931634319\n"
     ]
    }
   ],
   "source": [
    "dtrain = xgb.DMatrix(train_RDKIT, label = train_Y)\n",
    "dtest = xgb.DMatrix(test_RDKIT)\n",
    "\n",
    "bst = xgb.train(param, dtrain, int(num_round), verbose_eval=False)\n",
    "\n",
    "y_test_pred = bst.predict(dtest)\n",
    "MSE_RDKIT_test = np.mean(abs(np.reshape(test_Y, (-1)) - y_test_pred)**2)\n",
    "R2_RDKIT_test = r2_score(np.reshape(test_Y, (-1)), y_test_pred)\n",
    "absolute_errors_RDKIT = abs(np.reshape(test_Y, (-1)) - y_test_pred)\n",
    "\n",
    "print(MSE_RDKIT_test, R2_RDKIT_test)"
   ]
  },
  {
   "cell_type": "markdown",
   "metadata": {},
   "source": [
    "#### (iii) MACCS Fingerprint"
   ]
  },
  {
   "cell_type": "markdown",
   "metadata": {},
   "source": [
    "Repeat cross validation:"
   ]
  },
  {
   "cell_type": "code",
   "execution_count": 82,
   "metadata": {},
   "outputs": [
    {
     "name": "stdout",
     "output_type": "stream",
     "text": [
      "[0.8890756117600703, 0.8361999890232733, 0.8326477146340963, 0.8695021590837361, 0.8532062905007362]\n",
      "[0.38101778108044804, 0.3942410086028425, 0.40560772410864965, 0.37128959640171, 0.3643635722402844]\n"
     ]
    }
   ],
   "source": [
    "best_maccs_param =  {'learning_rate': 0.10963465489904332,\n",
    "                     'max_delta_step': 0.35473911287958093,\n",
    "                     'max_depth': 6.844816088955529,\n",
    "                     'min_child_weight': 4.88695168154169,\n",
    "                     'num_rounds': 416.2972036014347,\n",
    "                     'reg_alpha': 4.826776174061548,\n",
    "                     'reg_lambda': 4.434825494851664}\n",
    "\n",
    "param = best_maccs_param\n",
    "num_round = param[\"num_rounds\"]\n",
    "del param[\"num_rounds\"]\n",
    "\n",
    "param[\"max_depth\"] = int(np.round(param[\"max_depth\"]))\n",
    "\n",
    "R2 = []\n",
    "MSE = []\n",
    "\n",
    "for i in range(5):\n",
    "    train_index, test_index  = CV_indices_train[i], CV_indices_test[i]\n",
    "    train_index = [True if ind in train_index else False for ind in list(brenda_train.index)]\n",
    "    test_index = [True if ind in test_index else False for ind in list(brenda_train.index)]\n",
    "    \n",
    "    dtrain = xgb.DMatrix(train_MACCS[train_index], label = train_Y[train_index])\n",
    "    dvalid = xgb.DMatrix(train_MACCS[test_index])\n",
    "    \n",
    "    bst = xgb.train(param, dtrain, int(num_round), verbose_eval=False)\n",
    "    \n",
    "    y_valid_pred = bst.predict(dvalid)\n",
    "    MSE.append(np.mean(abs(np.reshape(train_Y[test_index], (-1)) - y_valid_pred)**2))\n",
    "    R2.append(r2_score(np.reshape(train_Y[test_index], (-1)), y_valid_pred))\n",
    "    \n",
    "MSE_MACCS = MSE\n",
    "R2_MACCS = R2\n",
    "print(MSE)\n",
    "print(R2)"
   ]
  },
  {
   "cell_type": "markdown",
   "metadata": {},
   "source": [
    "Train on whole training data set and validate on test set:"
   ]
  },
  {
   "cell_type": "code",
   "execution_count": 83,
   "metadata": {},
   "outputs": [
    {
     "name": "stdout",
     "output_type": "stream",
     "text": [
      "0.8273874823460501 0.4013447832344632\n"
     ]
    }
   ],
   "source": [
    "dtrain = xgb.DMatrix(train_MACCS, label = train_Y)\n",
    "dtest = xgb.DMatrix(test_MACCS)\n",
    "\n",
    "bst = xgb.train(param, dtrain, int(num_round), verbose_eval=False)\n",
    "\n",
    "y_test_pred = bst.predict(dtest)\n",
    "MSE_MACCS_test = np.mean(abs(np.reshape(test_Y, (-1)) - y_test_pred)**2)\n",
    "R2_MACCS_test = r2_score(np.reshape(test_Y, (-1)), y_test_pred)\n",
    "absolute_errors_MACCS = abs(np.reshape(test_Y, (-1)) - y_test_pred)\n",
    "\n",
    "print(MSE_MACCS_test, R2_MACCS_test)"
   ]
  },
  {
   "cell_type": "markdown",
   "metadata": {},
   "source": [
    "#### (iv) GNN Fingerprint"
   ]
  },
  {
   "cell_type": "markdown",
   "metadata": {},
   "source": [
    "Repeat cross validation:"
   ]
  },
  {
   "cell_type": "code",
   "execution_count": 75,
   "metadata": {},
   "outputs": [
    {
     "name": "stdout",
     "output_type": "stream",
     "text": [
      "[0.839462772935518, 0.8269895971580745, 0.8338728769850635, 0.8276153275599089, 0.8401994616480103]\n",
      "[0.41555867350435016, 0.40091318961201994, 0.404733132098933, 0.40157668249767786, 0.37405362530303954]\n"
     ]
    }
   ],
   "source": [
    "best_gnn_param = best_gnn_param = {'learning_rate': 0.11663442585733919,\n",
    "                 'max_delta_step': 4.103293476480144,\n",
    "                 'max_depth': 4.953377961760086,\n",
    "                 'min_child_weight': 9.731324861736825,\n",
    "                 'num_rounds': 82.28862882817994,\n",
    "                 'reg_alpha': 0.54379272012357756,\n",
    "                 'reg_lambda': 4.683671598466882}\n",
    "param = best_gnn_param\n",
    "num_round = param[\"num_rounds\"]\n",
    "del param[\"num_rounds\"]\n",
    "\n",
    "param[\"max_depth\"] = int(np.round(param[\"max_depth\"]))\n",
    "\n",
    "R2 = []\n",
    "MSE = []\n",
    "\n",
    "for i in range(5):\n",
    "    train_index, test_index  = CV_indices_train[i], CV_indices_test[i]\n",
    "    train_index = [True if ind in train_index else False for ind in list(brenda_train.index)]\n",
    "    test_index = [True if ind in test_index else False for ind in list(brenda_train.index)]\n",
    "    \n",
    "    dtrain = xgb.DMatrix(train_GNN[train_index], label = train_Y[train_index])\n",
    "    dvalid = xgb.DMatrix(train_GNN[test_index])\n",
    "    \n",
    "    bst = xgb.train(param, dtrain, int(num_round), verbose_eval=False)\n",
    "    \n",
    "    y_valid_pred = bst.predict(dvalid)\n",
    "    MSE.append(np.mean(abs(np.reshape(train_Y[test_index], (-1)) - y_valid_pred)**2))\n",
    "    R2.append(r2_score(np.reshape(train_Y[test_index], (-1)), y_valid_pred))\n",
    "    \n",
    "MSE_GNN = MSE\n",
    "R2_GNN = R2\n",
    "print(MSE_GNN)\n",
    "print(R2_GNN)\n",
    "\n",
    "#np.save(join(datasets_dir, \"training_results\", \"XGB_substrate_only_MSE_CV.npy\"), MSE_GNN)\n",
    "#np.save(join(datasets_dir, \"training_results\", \"XGB_substrate_only_MSE_R2_CV.npy\"), R2_GNN)"
   ]
  },
  {
   "cell_type": "markdown",
   "metadata": {},
   "source": [
    "Train on whole training data set and validate on test set:"
   ]
  },
  {
   "cell_type": "code",
   "execution_count": 77,
   "metadata": {},
   "outputs": [
    {
     "name": "stdout",
     "output_type": "stream",
     "text": [
      "0.8015024995970341 0.42007383133976584\n"
     ]
    }
   ],
   "source": [
    "dtrain = xgb.DMatrix(train_GNN, label = train_Y)\n",
    "dtest = xgb.DMatrix(test_GNN)\n",
    "\n",
    "bst = xgb.train(param, dtrain, int(num_round), verbose_eval=False)\n",
    "#pickle.dump(bst, open(join(datasets_dir, \"model_weights\", \"xgboost_model_substrate_only.dat\"), \"wb\"))\n",
    "y_test_pred = bst.predict(dtest)\n",
    "MSE_GNN_test = np.mean(abs(np.reshape(test_Y, (-1)) - y_test_pred)**2)\n",
    "R2_GNN_test = r2_score(np.reshape(test_Y, (-1)), y_test_pred)\n",
    "absolute_errors_GNN = abs(np.reshape(test_Y, (-1)) - y_test_pred)\n",
    "\n",
    "print(MSE_GNN_test, R2_GNN_test)\n",
    "#np.save(join(datasets_dir, \"training_results\", \"XGB_substrate_only_MSE_test.npy\"), MSE_GNN_test)\n",
    "#np.save(join(datasets_dir, \"training_results\", \"XGB_substrate_only_MSE_R2_test.npy\"), R2_GNN_test)"
   ]
  },
  {
   "cell_type": "markdown",
   "metadata": {},
   "source": [
    "#### Training the xgboost model with all training and test data for the predictions of the KM values of the genome-scale models"
   ]
  },
  {
   "cell_type": "code",
   "execution_count": 21,
   "metadata": {},
   "outputs": [
    {
     "data": {
      "text/plain": [
       "2"
      ]
     },
     "execution_count": 21,
     "metadata": {},
     "output_type": "execute_result"
    }
   ],
   "source": [
    "all_GNN = np.concatenate([train_GNN,test_GNN], axis = 0)\n",
    "all_Y = np.concatenate([train_Y,test_Y], axis = 0)\n",
    "\n",
    "best_gnn_param = best_gnn_param = {'learning_rate': 0.11663442585733919,\n",
    "                 'max_delta_step': 4.103293476480144,\n",
    "                 'max_depth': 4.953377961760086,\n",
    "                 'min_child_weight': 9.731324861736825,\n",
    "                 'num_rounds': 82.28862882817994,\n",
    "                 'reg_alpha': 0.49379272012357756,\n",
    "                 'reg_lambda': 4.683671598466882}\n",
    "\n",
    "param = best_gnn_param\n",
    "num_round = param[\"num_rounds\"]\n",
    "del param[\"num_rounds\"]\n",
    "\n",
    "param[\"max_depth\"] = int(np.round(param[\"max_depth\"]))\n",
    "\n",
    "\n",
    "dtrain = xgb.DMatrix(all_GNN, label = all_Y)\n",
    "\n",
    "bst = xgb.train(param, dtrain, int(num_round), verbose_eval=False)\n",
    "pickle.dump(bst, open(join(datasets_dir, \"model_weights\", \"xgboost_model_substrate_only_trained_with_all_data.dat\"), \"wb\"))"
   ]
  },
  {
   "cell_type": "markdown",
   "metadata": {},
   "source": [
    "## 3. Comparing the performance of the four different fingerprints and plotting figure 2 of our paper"
   ]
  },
  {
   "cell_type": "markdown",
   "metadata": {},
   "source": [
    "#### Figure 2a"
   ]
  },
  {
   "cell_type": "code",
   "execution_count": 85,
   "metadata": {},
   "outputs": [
    {
     "data": {
      "image/png": "[encoded data removed]",
      "text/plain": [
       "<Figure size 800x800 with 1 Axes>"
      ]
     },
     "metadata": {},
     "output_type": "display_data"
    }
   ],
   "source": [
    "fig, ax = plt.subplots(figsize= (8,8))\n",
    "ax.plot(fillstyle= \"full\")\n",
    "plt.rcParams.update({'font.size': 28})\n",
    "labs = [\"RDKit\",  \"ECFP\", \"MACCS\", \"GNN\"]\n",
    "    \n",
    "\n",
    "plt.scatter(1, MSE_RDKIT_test , c='blue', marker='o', linewidths= 8, label = \"test set\")\n",
    "plt.scatter(3, MSE_MACCS_test, c='blue', marker='o', linewidths= 8)\n",
    "plt.scatter(2, MSE_ECFP_test, c='blue', marker='o', linewidths= 8)\n",
    "plt.scatter(4, MSE_GNN_test, c='blue', marker='o', linewidths= 8)\n",
    "\n",
    "plt.boxplot([MSE_RDKIT,  MSE_ECFP, MSE_MACCS, MSE_GNN], positions=[1,2,3,4],  widths=0.6, whis =2)\n",
    "plt.ylim(0.79, 0.92)\n",
    "plt.xlim(0.5, 4.5)\n",
    "\n",
    "ax.set_xticks([1,2,3,4])\n",
    "ax.set_xticklabels(labs)\n",
    "ax.tick_params(axis='x', length=10)\n",
    "ax.tick_params(axis='y', length=10)\n",
    "ax.yaxis.set_label_coords(-0.2, 0.5)\n",
    "\n",
    "plt.ylabel(\"MSE on $\\log_{10}$-scale\")\n",
    "plt.legend(loc = \"upper right\")\n",
    "\n",
    "plt.show()"
   ]
  },
  {
   "cell_type": "markdown",
   "metadata": {},
   "source": [
    "#### Figure 2b"
   ]
  },
  {
   "cell_type": "code",
   "execution_count": 86,
   "metadata": {
    "scrolled": false
   },
   "outputs": [
    {
     "data": {
      "image/png": "[encoded data removed]",
      "text/plain": [
       "<Figure size 800x800 with 1 Axes>"
      ]
     },
     "metadata": {},
     "output_type": "display_data"
    }
   ],
   "source": [
    "fig, ax = plt.subplots(figsize= (8,8))\n",
    "plt.rcParams.update({'font.size': 28})\n",
    "labs = [\"RDKit\",  \"ECFP\", \"MACCS\", \"GNN\"]\n",
    "    \n",
    "\n",
    "plt.scatter(1, R2_RDKIT_test , c='blue', marker='^', linewidths= 8, label = \"test set\")\n",
    "plt.scatter(3, R2_MACCS_test, c='blue', marker='^', linewidths= 8)\n",
    "plt.scatter(2, R2_ECFP_test, c='blue', marker='^', linewidths= 8)\n",
    "plt.scatter(4, R2_GNN_test, c='blue', marker='^', linewidths= 8)\n",
    "\n",
    "plt.boxplot([R2_RDKIT, R2_ECFP, R2_MACCS, R2_GNN], positions=[1,2,3,4], widths=0.6, whis =2)\n",
    "plt.ylim(0.35, 0.43)\n",
    "plt.xlim(0.5, 4.5)\n",
    "\n",
    "ax.set_xticks([1,2,3,4])\n",
    "ax.set_xticklabels(labs)\n",
    "ax.tick_params(axis='x', length=10)\n",
    "ax.tick_params(axis='y', length=10)\n",
    "ax.yaxis.set_label_coords(-0.2, 0.5)\n",
    "\n",
    "plt.ylabel(\"coefficient of determination R²\")\n",
    "plt.legend(loc = \"upper left\")\n",
    "plt.show()"
   ]
  }
 ],
 "metadata": {
  "kernelspec": {
   "display_name": "Python 3",
   "language": "python",
   "name": "python3"
  },
  "language_info": {
   "codemirror_mode": {
    "name": "ipython",
    "version": 3
   },
   "file_extension": ".py",
   "mimetype": "text/x-python",
   "name": "python",
   "nbconvert_exporter": "python",
   "pygments_lexer": "ipython3",
   "version": "3.7.0"
  }
 },
 "nbformat": 4,
 "nbformat_minor": 2
}
