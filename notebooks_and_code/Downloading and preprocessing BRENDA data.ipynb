{
 "cells": [
  {
   "cell_type": "markdown",
   "metadata": {},
   "source": [
    "# Content of the notebook"
   ]
  },
  {
   "cell_type": "markdown",
   "metadata": {},
   "source": [
    "This notebook contains all steps that were used to create the training, validation, and test set, which we used in the paper \"Prediction of Michaelis constants $K_M$ from structural features\"."
   ]
  },
  {
   "cell_type": "markdown",
   "metadata": {},
   "source": [
    "We note that the BRENDA database is constantly changing and therefore, the dataset that is created with this notebook will be different to the dataset that we used in our paper. This notebook is divided into five steps. After each of the steps 1. to 4., we saved our dataset and stored it in the folder for datasets (named \"brenda_df_checkpoint_01.pkl\" - \"brenda_df_checkpoint_04.pkl\"). We also stored our final training, validation, and test sets in this folder (named \"test_data.pkl\", \"training_data.pkl\", and \"validation_data.pkl\"). All datasets that are newly created with this notebook, will be stored with the same filenames plus the suffix \"_V2\"."
   ]
  },
  {
   "cell_type": "markdown",
   "metadata": {},
   "source": [
    "The location of the folder with all datasets must be changed (to the corresponding path on your PC) in the python file \"directory_infomation.py\" before executing this notebook."
   ]
  },
  {
   "cell_type": "markdown",
   "metadata": {},
   "source": [
    "## The notebook consists of the following steps:"
   ]
  },
  {
   "cell_type": "markdown",
   "metadata": {},
   "source": [
    "1. Downloading data from BRENDA\n",
    "2. Mapping data points to KEGG reaction IDs\n",
    "3. Downloading functional domains for amino acid sequences of the enzymes\n",
    "4. Adding extended-connectivity fingerprints (ECFPs) and extra features (LogP, MW) to the dataset\n",
    "5. Splitting the dataset in training, validation, and test set"
   ]
  },
  {
   "cell_type": "markdown",
   "metadata": {},
   "source": [
    "Loading all the necessary packages and functions to execute the code:"
   ]
  },
  {
   "cell_type": "code",
   "execution_count": 1,
   "metadata": {},
   "outputs": [],
   "source": [
    "import numpy as np\n",
    "import pandas as pd\n",
    "import time\n",
    "from sklearn.model_selection import train_test_split\n",
    "from rdkit import Chem\n",
    "from rdkit.Chem import Crippen\n",
    "from rdkit.Chem import Descriptors\n",
    "from rdkit.Chem import AllChem\n",
    "import urllib.request\n",
    "from zeep import Client\n",
    "import hashlib\n",
    "import warnings\n",
    "warnings.filterwarnings('ignore')\n",
    "\n",
    "from functions_for_data_preprocessing import *\n",
    "from directory_infomation import *"
   ]
  },
  {
   "cell_type": "markdown",
   "metadata": {},
   "source": [
    "## 1. Downloading data from BRENDA"
   ]
  },
  {
   "cell_type": "markdown",
   "metadata": {},
   "source": [
    "Downloading data from BRENDA can take a couple of hours."
   ]
  },
  {
   "cell_type": "markdown",
   "metadata": {},
   "source": [
    "### (a) Downloading $K_M$ values together with substrate name, EC number and organism from BRENDA"
   ]
  },
  {
   "cell_type": "markdown",
   "metadata": {},
   "source": [
    "To download the data from BRENDA, a registration is needed (https://www.brenda-enzymes.org/register.php). In the following cell the password and email address has to be stored:"
   ]
  },
  {
   "cell_type": "code",
   "execution_count": 2,
   "metadata": {},
   "outputs": [],
   "source": [
    "wsdl = \"https://www.brenda-enzymes.org/soap/brenda_zeep.wsdl\"\n",
    "password = hashlib.sha256(\"a2b8c6\".encode(\"utf-8\")).hexdigest()\n",
    "email = \"alexander.kroll@hhu.de\"\n",
    "client = Client(wsdl)"
   ]
  },
  {
   "cell_type": "markdown",
   "metadata": {},
   "source": [
    "Creating a list with all EC numbers that exist in BRENDA:"
   ]
  },
  {
   "cell_type": "code",
   "execution_count": 3,
   "metadata": {},
   "outputs": [
    {
     "name": "stdout",
     "output_type": "stream",
     "text": [
      "There exist 8083 different EC numbers in the BRENDA database.\n"
     ]
    }
   ],
   "source": [
    "parameters = (email,password)\n",
    "EC_numbers = client.service.getEcNumbersFromEcNumber(*parameters)\n",
    "print(\"There exist %s different EC numbers in the BRENDA database.\" % len(EC_numbers))"
   ]
  },
  {
   "cell_type": "markdown",
   "metadata": {},
   "source": [
    "Iterating over all EC numbers and downloading all existing Km value together with the organism name, substrate name, literature ID and a comment (the amino acid sequence of the enzyme has to be downloaded separately afterwards). "
   ]
  },
  {
   "cell_type": "code",
   "execution_count": 4,
   "metadata": {},
   "outputs": [],
   "source": [
    "# create empty pandas DataFrame\n",
    "brenda_df = pd.DataFrame(columns= [\"EnzymeType\", \"ecNumber\", \"KM\", \"sequence\",\n",
    "                       \"organism\", \"substrate\", \"commentary\"])\n",
    "\n",
    "for ind in range(len(EC_numbers)):\n",
    "    EC = EC_numbers[ind]\n",
    "    #If you want to keep track of the progress, you can print the EC number that is currently progressed:\n",
    "    #print(EC)\n",
    "    \n",
    "    #set parameters for the next download\n",
    "    parameters = (email, password, \"ecNumber*\"+EC, \"kmValue*\", \"kmValueMaximum*\", \"substrate*\",\n",
    "                  \"commentary*\", \"organism*\", \"ligandStructureId*\", \"literature*\")\n",
    "    resultString = download_data_from_BRENDA(function = client.service.getKmValue, parameters = parameters,\n",
    "                                        error_identifier = EC, print_error= False)\n",
    "    \n",
    "    #save all necessary information in the DataFrame brenda_df\n",
    "    brenda_df = extract_KM_info_from_resultString(brenda_df, resultString)"
   ]
  },
  {
   "cell_type": "markdown",
   "metadata": {},
   "source": [
    "The comments, that are downloaded together with the KM values, can contain information about the type of the enzyme (wild type, mutant, recombinant). Where possible, we extract this information and store it in the column \"EnzymeType\". We also remove duplicated data points:"
   ]
  },
  {
   "cell_type": "code",
   "execution_count": 5,
   "metadata": {},
   "outputs": [],
   "source": [
    "brenda_df.loc[pd.isnull(brenda_df[\"commentary\"])] = \"\"\n",
    "brenda_df[\"EnzymeType\"][brenda_df['commentary'].str.contains(\"wild\")] = \"wild type\"\n",
    "brenda_df[\"EnzymeType\"][brenda_df['commentary'].str.contains(\"mutant\")] = \"mutant\"\n",
    "brenda_df[\"EnzymeType\"][brenda_df['commentary'].str.contains(\"recombin\")] = \"recombinant\"\n",
    "brenda_df.drop(columns = [\"commentary\"], inplace = True)\n",
    "brend_df = brenda_df.drop_duplicates(keep=\"first\").reset_index(drop=True)"
   ]
  },
  {
   "cell_type": "markdown",
   "metadata": {},
   "source": [
    "### (b) Downloading amino acid sequence from BRENDA for every EC number-organism combination:\n"
   ]
  },
  {
   "cell_type": "markdown",
   "metadata": {},
   "source": [
    "(i) Extracting all EC number-organism combinations and store them in a DataFrame:"
   ]
  },
  {
   "cell_type": "code",
   "execution_count": 6,
   "metadata": {},
   "outputs": [
    {
     "name": "stdout",
     "output_type": "stream",
     "text": [
      "There exist 16633 different EC number-organism combinations in the DataFrame.\n"
     ]
    }
   ],
   "source": [
    "EC_org_df = pd.DataFrame(data = {\"ecNumber\" : brenda_df[\"ecNumber\"], \"organism\" : brenda_df[\"organism\"]})\n",
    "EC_org_df = EC_org_df.drop_duplicates(keep = \"first\").reset_index(drop = True)\n",
    "print(\"There exist %s different EC number-organism combinations in the DataFrame.\" % len(EC_org_df))"
   ]
  },
  {
   "cell_type": "markdown",
   "metadata": {},
   "source": [
    "(ii) Downloading the enzyme sequences from BRENDA:"
   ]
  },
  {
   "cell_type": "code",
   "execution_count": 7,
   "metadata": {},
   "outputs": [],
   "source": [
    "EC_org_df[\"sequence\"] = np.nan\n",
    "\n",
    "for ind in EC_org_df.index:\n",
    "    org = EC_org_df[\"organism\"][ind]\n",
    "    EC = EC_org_df[\"ecNumber\"][ind]\n",
    "    if not pd.isnull(EC) and not pd.isnull(org):\n",
    "        parameters = (\"alexander.kroll@hhu.de\",password,\"ecNumber*\" + str(EC), \"sequence*\", \"noOfAminoAcids*\",\n",
    "                      \"firstAccessionCode*\", \"source*\", \"id*\", \"organism*\" + str(org))\n",
    "\n",
    "        resultString = download_data_from_BRENDA(function = client.service.getSequence,\n",
    "                                            parameters = parameters, error_identifier = EC +\";\" +org,\n",
    "                                           print_error = False)\n",
    "        if resultString != [] and resultString is not None:\n",
    "            EC_org_df[\"sequence\"][ind] = resultString[0][\"sequence\"]\n",
    "\n",
    "        #save a backup after 1000 downloads:     \n",
    "        if ind % 1000 == 0:\n",
    "            #print(ind)\n",
    "            EC_org_df.to_csv(datasets_dir + \"EC_and_org_with_seq_V2.csv\")"
   ]
  },
  {
   "cell_type": "markdown",
   "metadata": {},
   "source": [
    "Removing all data points without an amino acid sequence:"
   ]
  },
  {
   "cell_type": "code",
   "execution_count": 8,
   "metadata": {},
   "outputs": [],
   "source": [
    "brenda_df = brenda_df.loc[~pd.isnull(brenda_df[\"sequence\"])]"
   ]
  },
  {
   "cell_type": "markdown",
   "metadata": {},
   "source": [
    "Saving the created dataset:"
   ]
  },
  {
   "cell_type": "code",
   "execution_count": 9,
   "metadata": {},
   "outputs": [],
   "source": [
    "#brenda_df.to_pickle(datasets_dir + \"brenda_df_checkpoint_1_V2.pkl\")"
   ]
  },
  {
   "cell_type": "markdown",
   "metadata": {},
   "source": [
    "Alternatively to executing all the steps above, our dataset can be loaded:"
   ]
  },
  {
   "cell_type": "code",
   "execution_count": 10,
   "metadata": {},
   "outputs": [],
   "source": [
    "brenda_df = pd.read_pickle(datasets_dir + \"brenda_df_checkpoint_1.pkl\")"
   ]
  },
  {
   "cell_type": "markdown",
   "metadata": {},
   "source": [
    "## 2. Mapping data points from BRENDA to KEGG reaction IDs"
   ]
  },
  {
   "cell_type": "markdown",
   "metadata": {},
   "source": [
    "### (a) Creating a DataFrame with all KEGG Compound IDs and the corresponding compound names. Data to create this DataFrame is downloaded from the KEGG homepage:"
   ]
  },
  {
   "cell_type": "markdown",
   "metadata": {},
   "source": [
    "To create the described DataFrame, we download data from KEGG, which can take a couple of hours. The resulting DataFrame is stored in the directory for datasets and is named \"KEGG_substrate_df.pkl\". To newly create this DataFrame, execute the following cell. Otherwise, load the DataFrame by executing the cell after this one."
   ]
  },
  {
   "cell_type": "code",
   "execution_count": 11,
   "metadata": {},
   "outputs": [],
   "source": [
    "#create_df_with_KEGG_CIDs_and_correpsonding_names()"
   ]
  },
  {
   "cell_type": "markdown",
   "metadata": {},
   "source": [
    "Alternatively to creating a new DataFrame with the above cell, our existing DataFrame can be used:"
   ]
  },
  {
   "cell_type": "code",
   "execution_count": 12,
   "metadata": {},
   "outputs": [
    {
     "data": {
      "text/html": [
       "<div>\n",
       "<style scoped>\n",
       "    .dataframe tbody tr th:only-of-type {\n",
       "        vertical-align: middle;\n",
       "    }\n",
       "\n",
       "    .dataframe tbody tr th {\n",
       "        vertical-align: top;\n",
       "    }\n",
       "\n",
       "    .dataframe thead th {\n",
       "        text-align: right;\n",
       "    }\n",
       "</style>\n",
       "<table border=\"1\" class=\"dataframe\">\n",
       "  <thead>\n",
       "    <tr style=\"text-align: right;\">\n",
       "      <th></th>\n",
       "      <th>KEGG ID</th>\n",
       "      <th>substrate</th>\n",
       "    </tr>\n",
       "  </thead>\n",
       "  <tbody>\n",
       "    <tr>\n",
       "      <th>0</th>\n",
       "      <td>C00001</td>\n",
       "      <td>H2O</td>\n",
       "    </tr>\n",
       "    <tr>\n",
       "      <th>1</th>\n",
       "      <td>C00001</td>\n",
       "      <td>Water</td>\n",
       "    </tr>\n",
       "    <tr>\n",
       "      <th>2</th>\n",
       "      <td>C00002</td>\n",
       "      <td>ATP</td>\n",
       "    </tr>\n",
       "    <tr>\n",
       "      <th>3</th>\n",
       "      <td>C00002</td>\n",
       "      <td>Adenosine 5'-triphosphate</td>\n",
       "    </tr>\n",
       "    <tr>\n",
       "      <th>4</th>\n",
       "      <td>C00003</td>\n",
       "      <td>NAD+</td>\n",
       "    </tr>\n",
       "  </tbody>\n",
       "</table>\n",
       "</div>"
      ],
      "text/plain": [
       "  KEGG ID                  substrate\n",
       "0  C00001                        H2O\n",
       "1  C00001                      Water\n",
       "2  C00002                        ATP\n",
       "3  C00002  Adenosine 5'-triphosphate\n",
       "4  C00003                       NAD+"
      ]
     },
     "execution_count": 12,
     "metadata": {},
     "output_type": "execute_result"
    }
   ],
   "source": [
    "KEGG_substrate_df = pd.read_pickle(datasets_dir + \"KEGG_substrate_df.pkl\")\n",
    "KEGG_substrate_df.head()"
   ]
  },
  {
   "cell_type": "markdown",
   "metadata": {},
   "source": [
    "### (b) Mapping substrate names from BRENDA to KEGG Compound IDs (CIDs) with the DataFrame created/loaded in (a)"
   ]
  },
  {
   "cell_type": "markdown",
   "metadata": {},
   "source": [
    "Converting all substrate names in KEGG_substrate_df and brenda_df to substrate names that only contain lower case letters:"
   ]
  },
  {
   "cell_type": "code",
   "execution_count": 13,
   "metadata": {},
   "outputs": [],
   "source": [
    "KEGG_substrate_df[\"substrate\"] = [name.lower() for name in KEGG_substrate_df[\"substrate\"]]\n",
    "brenda_df[\"substrate\"] = [name.lower() for name in brenda_df[\"substrate\"]]"
   ]
  },
  {
   "cell_type": "markdown",
   "metadata": {},
   "source": [
    "Mapping substrate names from brenda_df to KEGG CIDs:"
   ]
  },
  {
   "cell_type": "code",
   "execution_count": 14,
   "metadata": {},
   "outputs": [
    {
     "name": "stdout",
     "output_type": "stream",
     "text": [
      "For 13798 data points we could not map the substrate name to a KEGG Compound ID.\n"
     ]
    }
   ],
   "source": [
    "brenda_df = brenda_df.merge(KEGG_substrate_df, on = \"substrate\", how = \"left\")\n",
    "print(\"For %s data points we could not map the substrate name to a KEGG Compound ID.\" % sum(pd.isnull(brenda_df[\"KEGG ID\"])))"
   ]
  },
  {
   "cell_type": "markdown",
   "metadata": {},
   "source": [
    "###  (c) For all the substrate names that could not be mapped to KEGG CIDs yet: We try to map them with a synonym list from PubChem to PubChem CIDs first and then to KEGG CIDs"
   ]
  },
  {
   "cell_type": "markdown",
   "metadata": {},
   "source": [
    "The synonym list from PubChem can be downloaded with the following link: ftp.ncbi.nlm.nih.gov/pubchem/Compound/Extras/CID-Synonym-filtered.gz and should be stored in the folder for datasets."
   ]
  },
  {
   "cell_type": "markdown",
   "metadata": {},
   "source": [
    "We split this list with over 12 million entries in five parts because as a single file it is too big to be stored in our RAM:"
   ]
  },
  {
   "cell_type": "code",
   "execution_count": 15,
   "metadata": {},
   "outputs": [],
   "source": [
    "#divivde synonym database in 5 diffeerent databases\n",
    "for k in range(5):\n",
    "    count = 0\n",
    "    cid = []\n",
    "    substrates = []\n",
    "    with open(datasets_dir + \"/CID-Synonym-filtered\") as infile:\n",
    "        if count % 10**6 == 0:\n",
    "        for line in infile:\n",
    "            count +=1\n",
    "            if not (count < (k+1)*25632777 and count >=  k*25632777): \n",
    "                None\n",
    "            else:\n",
    "                line = line.split(\"\\t\")\n",
    "                cid.append(line[0])\n",
    "                substrates.append(line[1].lower()[0:-1])\n",
    "                \n",
    "    df = pd.DataFrame(data = {\"substrates\": substrates, \"CID\" :cid})\n",
    "    df.to_pickle(\"./substrates_synonyms_part\"+str(k)+\".pkl\")"
   ]
  },
  {
   "cell_type": "markdown",
   "metadata": {},
   "source": [
    "Mapping all substrate names without a KEGG CID to PubChem CIDs:"
   ]
  },
  {
   "cell_type": "code",
   "execution_count": 16,
   "metadata": {},
   "outputs": [
    {
     "name": "stdout",
     "output_type": "stream",
     "text": [
      "loading part 1 of 5 of the synonym list...\n",
      "searching in synoynm list part 1 for matches\n",
      "loading part 2 of 5 of the synonym list...\n",
      "searching in synoynm list part 2 for matches\n",
      "loading part 3 of 5 of the synonym list...\n",
      "searching in synoynm list part 3 for matches\n",
      "loading part 4 of 5 of the synonym list...\n",
      "searching in synoynm list part 4 for matches\n",
      "loading part 5 of 5 of the synonym list...\n",
      "searching in synoynm list part 5 for matches\n"
     ]
    }
   ],
   "source": [
    "#creating a list with all substrate names that couldn't be mapped to KEGG IDs\n",
    "unmapped_substrates = list(set(list(brenda_df[\"substrate\"][pd.isnull(list(brenda_df[\"KEGG ID\"]))])))\n",
    "matches = substrate_names_to_Pubchem_CIDs(unmapped_substrates)"
   ]
  },
  {
   "cell_type": "markdown",
   "metadata": {},
   "source": [
    "Mapping all PubChem CIDs to KEGG CIDs: Therefore, we create a txt-file (\"Pubchem_CIDs.txt\") that contains all PubChem CIDs that we want to map to KEGG CIDs:"
   ]
  },
  {
   "cell_type": "code",
   "execution_count": 17,
   "metadata": {},
   "outputs": [],
   "source": [
    "#convert CIDs from strings to integers:\n",
    "for ind in matches.index:\n",
    "    cid = matches.loc[ind][\"CID\"]\n",
    "    if not pd.isnull(cid):\n",
    "        matches[\"CID\"][ind] = int(cid)\n",
    "        \n",
    "        \n",
    "#create txt file with all CIDs in matches:\n",
    "CIDs = list(matches.loc[~ pd.isnull(matches[\"CID\"])][\"CID\"])\n",
    "f = open(datasets_dir + \"Pubchem_CIDs.txt\",\"w\") \n",
    "for cid in CIDs:\n",
    "    f.write(str(cid) + \"\\n\")\n",
    "f.close()"
   ]
  },
  {
   "cell_type": "markdown",
   "metadata": {},
   "source": [
    "The txt-file \"Pubchem_CIDs.txt\" can be used as the input for the webservice http://csbg.cnb.csic.es/mbrole2/conversion.php to map the Pubchem CIDs to KEGG CIDs. The resulting file \"mbrole_conversion.tsv\" should be stored in the directory for datasets."
   ]
  },
  {
   "cell_type": "code",
   "execution_count": 22,
   "metadata": {},
   "outputs": [
    {
     "data": {
      "text/html": [
       "<div>\n",
       "<style scoped>\n",
       "    .dataframe tbody tr th:only-of-type {\n",
       "        vertical-align: middle;\n",
       "    }\n",
       "\n",
       "    .dataframe tbody tr th {\n",
       "        vertical-align: top;\n",
       "    }\n",
       "\n",
       "    .dataframe thead th {\n",
       "        text-align: right;\n",
       "    }\n",
       "</style>\n",
       "<table border=\"1\" class=\"dataframe\">\n",
       "  <thead>\n",
       "    <tr style=\"text-align: right;\">\n",
       "      <th></th>\n",
       "      <th>Metabolite</th>\n",
       "      <th>CID</th>\n",
       "      <th>Input_source</th>\n",
       "      <th>KEGG ID</th>\n",
       "      <th>Output_source</th>\n",
       "    </tr>\n",
       "  </thead>\n",
       "  <tbody>\n",
       "    <tr>\n",
       "      <th>0</th>\n",
       "      <td>n,2-diphenylacetamide</td>\n",
       "      <td>225533</td>\n",
       "      <td>NaN</td>\n",
       "      <td>NaN</td>\n",
       "      <td>NaN</td>\n",
       "    </tr>\n",
       "    <tr>\n",
       "      <th>1</th>\n",
       "      <td>7-ethyl-10-(4-(1-piperidino)-1-piperidino)carb...</td>\n",
       "      <td>NaN</td>\n",
       "      <td>NaN</td>\n",
       "      <td>NaN</td>\n",
       "      <td>NaN</td>\n",
       "    </tr>\n",
       "    <tr>\n",
       "      <th>2</th>\n",
       "      <td>n-acetyl-s-(e,e)-farnesyl-d-cysteine</td>\n",
       "      <td>129661286</td>\n",
       "      <td>NaN</td>\n",
       "      <td>NaN</td>\n",
       "      <td>NaN</td>\n",
       "    </tr>\n",
       "    <tr>\n",
       "      <th>3</th>\n",
       "      <td>(s)-2-aminophenylacetamide</td>\n",
       "      <td>NaN</td>\n",
       "      <td>NaN</td>\n",
       "      <td>NaN</td>\n",
       "      <td>NaN</td>\n",
       "    </tr>\n",
       "    <tr>\n",
       "      <th>4</th>\n",
       "      <td>(2s)-methylmalonyl-coenzyme a</td>\n",
       "      <td>NaN</td>\n",
       "      <td>NaN</td>\n",
       "      <td>NaN</td>\n",
       "      <td>NaN</td>\n",
       "    </tr>\n",
       "    <tr>\n",
       "      <th>...</th>\n",
       "      <td>...</td>\n",
       "      <td>...</td>\n",
       "      <td>...</td>\n",
       "      <td>...</td>\n",
       "      <td>...</td>\n",
       "    </tr>\n",
       "    <tr>\n",
       "      <th>7102</th>\n",
       "      <td>(s)-propanolol</td>\n",
       "      <td>NaN</td>\n",
       "      <td>NaN</td>\n",
       "      <td>NaN</td>\n",
       "      <td>NaN</td>\n",
       "    </tr>\n",
       "    <tr>\n",
       "      <th>7103</th>\n",
       "      <td>5,10-methylene-5,6,7,8-tetrahydrofolic acid</td>\n",
       "      <td>NaN</td>\n",
       "      <td>NaN</td>\n",
       "      <td>NaN</td>\n",
       "      <td>NaN</td>\n",
       "    </tr>\n",
       "    <tr>\n",
       "      <th>7104</th>\n",
       "      <td>unmodified e. coli trna1val</td>\n",
       "      <td>NaN</td>\n",
       "      <td>NaN</td>\n",
       "      <td>NaN</td>\n",
       "      <td>NaN</td>\n",
       "    </tr>\n",
       "    <tr>\n",
       "      <th>7105</th>\n",
       "      <td>dansyl-gngn</td>\n",
       "      <td>NaN</td>\n",
       "      <td>NaN</td>\n",
       "      <td>NaN</td>\n",
       "      <td>NaN</td>\n",
       "    </tr>\n",
       "    <tr>\n",
       "      <th>7106</th>\n",
       "      <td>3-propionylaminopropanal</td>\n",
       "      <td>NaN</td>\n",
       "      <td>NaN</td>\n",
       "      <td>NaN</td>\n",
       "      <td>NaN</td>\n",
       "    </tr>\n",
       "  </tbody>\n",
       "</table>\n",
       "<p>7107 rows × 5 columns</p>\n",
       "</div>"
      ],
      "text/plain": [
       "                                             Metabolite        CID  \\\n",
       "0                                 n,2-diphenylacetamide     225533   \n",
       "1     7-ethyl-10-(4-(1-piperidino)-1-piperidino)carb...        NaN   \n",
       "2                  n-acetyl-s-(e,e)-farnesyl-d-cysteine  129661286   \n",
       "3                            (s)-2-aminophenylacetamide        NaN   \n",
       "4                         (2s)-methylmalonyl-coenzyme a        NaN   \n",
       "...                                                 ...        ...   \n",
       "7102                                     (s)-propanolol        NaN   \n",
       "7103        5,10-methylene-5,6,7,8-tetrahydrofolic acid        NaN   \n",
       "7104                        unmodified e. coli trna1val        NaN   \n",
       "7105                                        dansyl-gngn        NaN   \n",
       "7106                           3-propionylaminopropanal        NaN   \n",
       "\n",
       "     Input_source KEGG ID Output_source  \n",
       "0             NaN     NaN           NaN  \n",
       "1             NaN     NaN           NaN  \n",
       "2             NaN     NaN           NaN  \n",
       "3             NaN     NaN           NaN  \n",
       "4             NaN     NaN           NaN  \n",
       "...           ...     ...           ...  \n",
       "7102          NaN     NaN           NaN  \n",
       "7103          NaN     NaN           NaN  \n",
       "7104          NaN     NaN           NaN  \n",
       "7105          NaN     NaN           NaN  \n",
       "7106          NaN     NaN           NaN  \n",
       "\n",
       "[7107 rows x 5 columns]"
      ]
     },
     "execution_count": 22,
     "metadata": {},
     "output_type": "execute_result"
    }
   ],
   "source": [
    "macthes_with_KEGG_IDs"
   ]
  },
  {
   "cell_type": "code",
   "execution_count": 23,
   "metadata": {},
   "outputs": [
    {
     "data": {
      "text/html": [
       "<div>\n",
       "<style scoped>\n",
       "    .dataframe tbody tr th:only-of-type {\n",
       "        vertical-align: middle;\n",
       "    }\n",
       "\n",
       "    .dataframe tbody tr th {\n",
       "        vertical-align: top;\n",
       "    }\n",
       "\n",
       "    .dataframe thead th {\n",
       "        text-align: right;\n",
       "    }\n",
       "</style>\n",
       "<table border=\"1\" class=\"dataframe\">\n",
       "  <thead>\n",
       "    <tr style=\"text-align: right;\">\n",
       "      <th></th>\n",
       "      <th>substrate</th>\n",
       "      <th>CID</th>\n",
       "      <th>KEGG ID</th>\n",
       "    </tr>\n",
       "  </thead>\n",
       "  <tbody>\n",
       "    <tr>\n",
       "      <th>0</th>\n",
       "      <td>n,2-diphenylacetamide</td>\n",
       "      <td>225533</td>\n",
       "      <td>NaN</td>\n",
       "    </tr>\n",
       "    <tr>\n",
       "      <th>1</th>\n",
       "      <td>7-ethyl-10-(4-(1-piperidino)-1-piperidino)carb...</td>\n",
       "      <td>NaN</td>\n",
       "      <td>NaN</td>\n",
       "    </tr>\n",
       "    <tr>\n",
       "      <th>2</th>\n",
       "      <td>n-acetyl-s-(e,e)-farnesyl-d-cysteine</td>\n",
       "      <td>129661286</td>\n",
       "      <td>NaN</td>\n",
       "    </tr>\n",
       "    <tr>\n",
       "      <th>3</th>\n",
       "      <td>(s)-2-aminophenylacetamide</td>\n",
       "      <td>NaN</td>\n",
       "      <td>NaN</td>\n",
       "    </tr>\n",
       "    <tr>\n",
       "      <th>4</th>\n",
       "      <td>(2s)-methylmalonyl-coenzyme a</td>\n",
       "      <td>NaN</td>\n",
       "      <td>NaN</td>\n",
       "    </tr>\n",
       "  </tbody>\n",
       "</table>\n",
       "</div>"
      ],
      "text/plain": [
       "                                           substrate        CID KEGG ID\n",
       "0                              n,2-diphenylacetamide     225533     NaN\n",
       "1  7-ethyl-10-(4-(1-piperidino)-1-piperidino)carb...        NaN     NaN\n",
       "2               n-acetyl-s-(e,e)-farnesyl-d-cysteine  129661286     NaN\n",
       "3                         (s)-2-aminophenylacetamide        NaN     NaN\n",
       "4                      (2s)-methylmalonyl-coenzyme a        NaN     NaN"
      ]
     },
     "execution_count": 23,
     "metadata": {},
     "output_type": "execute_result"
    }
   ],
   "source": [
    "#load the resulting file and store it in a DataFrame:\n",
    "Pubchem_CID_to_KEGG_df = pd.read_csv(datasets_dir + \"mbrole_conversion.tsv\", sep= \"\\t\")\n",
    "#rename columns:\n",
    "Pubchem_CID_to_KEGG_df.rename(columns = {\"Input\" : \"CID\", \"Output\" : \"KEGG ID\"}, inplace = True)\n",
    "\n",
    "#merge this DataFrame with the DataFrame called matches:\n",
    "macthes_with_KEGG_IDs = pd.merge(matches, Pubchem_CID_to_KEGG_df, how='left', on=['CID'])\n",
    "macthes_with_KEGG_IDs.drop(columns = [\"Input_source\", \"Output_source\"], inplace = True)\n",
    "macthes_with_KEGG_IDs.rename(columns = {\"Metabolite\" : \"substrate\"}, inplace = True)\n",
    "\n",
    "macthes_with_KEGG_IDs.head()"
   ]
  },
  {
   "cell_type": "markdown",
   "metadata": {},
   "source": [
    "Mapping all newly found KEGG CIDs for substrate names in the Brenda DataFrame:"
   ]
  },
  {
   "cell_type": "code",
   "execution_count": 24,
   "metadata": {},
   "outputs": [],
   "source": [
    "for ind in brenda_df.index:\n",
    "    if pd.isnull(brenda_df[\"KEGG ID\"][ind]):\n",
    "        substrate = brenda_df[\"substrate\"][ind]\n",
    "        try:\n",
    "            KEGG_ID = list(macthes_with_KEGG_IDs.loc[macthes_with_KEGG_IDs[\"substrate\"]== substrate][\"KEGG ID\"])[0]\n",
    "            brenda_df[\"KEGG ID\"][ind] = KEGG_ID\n",
    "        except:\n",
    "            None"
   ]
  },
  {
   "cell_type": "markdown",
   "metadata": {},
   "source": [
    "Removing all data points with substrates without a KEGG CID:"
   ]
  },
  {
   "cell_type": "code",
   "execution_count": 25,
   "metadata": {},
   "outputs": [],
   "source": [
    "brenda_df = brenda_df.loc[~pd.isnull(brenda_df[\"KEGG ID\"])]"
   ]
  },
  {
   "cell_type": "markdown",
   "metadata": {},
   "source": [
    "### (d) Mapping  data points to KEGG reaction IDs"
   ]
  },
  {
   "cell_type": "markdown",
   "metadata": {},
   "source": [
    "Loading DataFrame with all reactions in the KEGG reaction database:"
   ]
  },
  {
   "cell_type": "code",
   "execution_count": 26,
   "metadata": {},
   "outputs": [
    {
     "data": {
      "text/html": [
       "<div>\n",
       "<style scoped>\n",
       "    .dataframe tbody tr th:only-of-type {\n",
       "        vertical-align: middle;\n",
       "    }\n",
       "\n",
       "    .dataframe tbody tr th {\n",
       "        vertical-align: top;\n",
       "    }\n",
       "\n",
       "    .dataframe thead th {\n",
       "        text-align: right;\n",
       "    }\n",
       "</style>\n",
       "<table border=\"1\" class=\"dataframe\">\n",
       "  <thead>\n",
       "    <tr style=\"text-align: right;\">\n",
       "      <th></th>\n",
       "      <th>EC number</th>\n",
       "      <th>KEGG reaction ID</th>\n",
       "      <th>substrates left</th>\n",
       "      <th>substrates right</th>\n",
       "      <th>KEGG IDs left</th>\n",
       "      <th>KEGG IDs right</th>\n",
       "    </tr>\n",
       "  </thead>\n",
       "  <tbody>\n",
       "    <tr>\n",
       "      <th>0</th>\n",
       "      <td>1.1.1.1</td>\n",
       "      <td>R00623</td>\n",
       "      <td>Primary alcohol + NAD+</td>\n",
       "      <td>Aldehyde + NADH + H+</td>\n",
       "      <td>[C00226, C00003]</td>\n",
       "      <td>[C00071, C00004, C00080]</td>\n",
       "    </tr>\n",
       "    <tr>\n",
       "      <th>1</th>\n",
       "      <td>1.1.1.1</td>\n",
       "      <td>R00624</td>\n",
       "      <td>Secondary alcohol + NAD+</td>\n",
       "      <td>Ketone + NADH + H+</td>\n",
       "      <td>[C01612, C00003]</td>\n",
       "      <td>[C01450, C00004, C00080]</td>\n",
       "    </tr>\n",
       "    <tr>\n",
       "      <th>2</th>\n",
       "      <td>1.1.1.1</td>\n",
       "      <td>R00754</td>\n",
       "      <td>Ethanol + NAD+</td>\n",
       "      <td>Acetaldehyde + NADH + H+</td>\n",
       "      <td>[C00469, C00003]</td>\n",
       "      <td>[C00084, C00004, C00080]</td>\n",
       "    </tr>\n",
       "    <tr>\n",
       "      <th>3</th>\n",
       "      <td>1.1.1.1</td>\n",
       "      <td>R02124</td>\n",
       "      <td>Retinol + NAD+</td>\n",
       "      <td>Retinal + NADH + H+</td>\n",
       "      <td>[C00473, C00003]</td>\n",
       "      <td>[C00376, C00004, C00080]</td>\n",
       "    </tr>\n",
       "    <tr>\n",
       "      <th>4</th>\n",
       "      <td>1.1.1.1</td>\n",
       "      <td>R02878</td>\n",
       "      <td>1-Octanol + NAD+</td>\n",
       "      <td>1-Octanal + NADH + H+</td>\n",
       "      <td>[C00756, C00003]</td>\n",
       "      <td>[C01545, C00004, C00080]</td>\n",
       "    </tr>\n",
       "  </tbody>\n",
       "</table>\n",
       "</div>"
      ],
      "text/plain": [
       "  EC number KEGG reaction ID           substrates left  \\\n",
       "0   1.1.1.1           R00623    Primary alcohol + NAD+   \n",
       "1   1.1.1.1           R00624  Secondary alcohol + NAD+   \n",
       "2   1.1.1.1           R00754            Ethanol + NAD+   \n",
       "3   1.1.1.1           R02124            Retinol + NAD+   \n",
       "4   1.1.1.1           R02878          1-Octanol + NAD+   \n",
       "\n",
       "           substrates right     KEGG IDs left            KEGG IDs right  \n",
       "0      Aldehyde + NADH + H+  [C00226, C00003]  [C00071, C00004, C00080]  \n",
       "1        Ketone + NADH + H+  [C01612, C00003]  [C01450, C00004, C00080]  \n",
       "2  Acetaldehyde + NADH + H+  [C00469, C00003]  [C00084, C00004, C00080]  \n",
       "3       Retinal + NADH + H+  [C00473, C00003]  [C00376, C00004, C00080]  \n",
       "4     1-Octanal + NADH + H+  [C00756, C00003]  [C01545, C00004, C00080]  "
      ]
     },
     "execution_count": 26,
     "metadata": {},
     "output_type": "execute_result"
    }
   ],
   "source": [
    "KEGG_reaction_df = pd.read_pickle(datasets_dir + \"KEGG_reaction_df.pkl\")\n",
    "KEGG_reaction_df.head()"
   ]
  },
  {
   "cell_type": "markdown",
   "metadata": {},
   "source": [
    "Mapping the BRENDA data points to KEGG reaction IDs via EC number and KEGG CID:"
   ]
  },
  {
   "cell_type": "code",
   "execution_count": 30,
   "metadata": {},
   "outputs": [],
   "source": [
    "brenda_df[\"KEGG reaction ID\"] = np.nan\n",
    "for ind in brenda_df.index:\n",
    "    reaction_ids = map_BRENDA_entry_to_KEGG_reaction_ID(brenda_df.loc[ind], KEGG_reaction_df)\n",
    "    if not reaction_ids is None:\n",
    "        brenda_df[\"KEGG reaction ID\"][ind] = reaction_ids"
   ]
  },
  {
   "cell_type": "markdown",
   "metadata": {},
   "source": [
    "Removing all data points without a KEGG reaction ID:"
   ]
  },
  {
   "cell_type": "code",
   "execution_count": 31,
   "metadata": {},
   "outputs": [],
   "source": [
    "brenda_df = brenda_df.loc[~pd.isnull(brenda_df[\"KEGG reaction ID\"])]"
   ]
  },
  {
   "cell_type": "markdown",
   "metadata": {},
   "source": [
    "Saving the created DataFrame:"
   ]
  },
  {
   "cell_type": "code",
   "execution_count": 32,
   "metadata": {},
   "outputs": [],
   "source": [
    "#brenda_df.to_pickle(datasets_dir + \"brenda_df_checkpoint_2_V2.pkl\")"
   ]
  },
  {
   "cell_type": "markdown",
   "metadata": {},
   "source": [
    "Alternatively to executing all the steps above, our dataset can be loaded:"
   ]
  },
  {
   "cell_type": "code",
   "execution_count": 33,
   "metadata": {},
   "outputs": [],
   "source": [
    "brenda_df = pd.read_pickle(datasets_dir + \"brenda_df_checkpoint_2.pkl\")"
   ]
  },
  {
   "cell_type": "markdown",
   "metadata": {},
   "source": [
    "## 3. Downloading functional domains for emzyme amino acid sequences"
   ]
  },
  {
   "cell_type": "markdown",
   "metadata": {},
   "source": [
    "In this part of the notebook, the functional domains for the amino acid sequences of the enzymes are downloaded via the Webservice of Pfam. There is an upper limit of 500 sequences per request. Therefore, we are saving the sequences in multiple FASTA-files of up to 500 sequences each."
   ]
  },
  {
   "cell_type": "markdown",
   "metadata": {},
   "source": [
    "First, extracting all different enzyme sequences and storing them in a DataFrame:"
   ]
  },
  {
   "cell_type": "code",
   "execution_count": 34,
   "metadata": {},
   "outputs": [],
   "source": [
    "df_seq_FunD = pd.DataFrame(data = {\"sequence\" : brenda_df[\"sequence\"]})\n",
    "df_seq_FunD = df_seq_FunD.drop_duplicates(keep = \"first\").reset_index(drop = True)\n",
    "df_seq_FunD[\"FunD\"] = \"\""
   ]
  },
  {
   "cell_type": "markdown",
   "metadata": {},
   "source": [
    "Now, creating FASTA-files with the amino acid sequences of the enzymes:"
   ]
  },
  {
   "cell_type": "code",
   "execution_count": 35,
   "metadata": {},
   "outputs": [],
   "source": [
    "part = 0\n",
    "count = 0\n",
    "\n",
    "ofile = open(datasets_dir + \"Pfam_input_part_\" + str(part) + \".txt\", \"w\")\n",
    "for ind in df_seq_FunD.index:\n",
    "        if count > 499: # if 500 seq reached: use new file\n",
    "            ofile.close()\n",
    "            part +=1\n",
    "            count = 0\n",
    "            ofile = open(datasets_dir + \"fasta_for_pfam_Km_part\" + str(part) + \".txt\", \"w\")\n",
    "        seq = df_seq_FunD[\"sequence\"][ind]\n",
    "        if not pd.isnull(seq):\n",
    "            count +=1\n",
    "            seq_end = seq.find(\"#\")\n",
    "            ofile.write(\">\" + str(ind) + \"\\n\" +seq[:seq_end] + \"\\n\")\n",
    "ofile.close()"
   ]
  },
  {
   "cell_type": "markdown",
   "metadata": {},
   "source": [
    "These FASTA-files (named \"\"Pfam_input_part_k.txt\") can be used as the input of the Pfam webservice under the following URL: https://pfam.xfam.org/search#tabview=tab1"
   ]
  },
  {
   "cell_type": "markdown",
   "metadata": {},
   "source": [
    "Pfam sends the results of the requests via email. We copied the part of the email that begins with the Pfam output (beginning with \">\") into a txt-file and saved it in the directory for datasets. We named the output files \"pfam_output_partk.txt\", where k is replaced by an integer according to the input file that was used to create this output file:"
   ]
  },
  {
   "cell_type": "code",
   "execution_count": 37,
   "metadata": {},
   "outputs": [],
   "source": [
    "#FUND is a matrix where all different functional domains are stored\n",
    "df_seq_FunD, FUND = calculate_FunD_vectors_from_Pfam_output(df = df_seq_FunD, no_of_parts = 16)"
   ]
  },
  {
   "cell_type": "markdown",
   "metadata": {},
   "source": [
    "Only using functional domains that occur at least 5 times in the whole dataset:"
   ]
  },
  {
   "cell_type": "code",
   "execution_count": 38,
   "metadata": {},
   "outputs": [],
   "source": [
    "selection = np.sum(FUND, axis= 0) >= 5\n",
    "for ind in df_seq_FunD.index:\n",
    "    if df_seq_FunD[\"FunD\"][ind] != \"\":\n",
    "        df_seq_FunD[\"FunD\"][ind] = df_seq_FunD[\"FunD\"][ind][selection]"
   ]
  },
  {
   "cell_type": "markdown",
   "metadata": {},
   "source": [
    "Mapping functional domains to brenda_df:"
   ]
  },
  {
   "cell_type": "code",
   "execution_count": 39,
   "metadata": {
    "scrolled": true
   },
   "outputs": [],
   "source": [
    "brenda_df = brenda_df.merge(df_seq_FunD, on =\"sequence\", how = \"left\")"
   ]
  },
  {
   "cell_type": "markdown",
   "metadata": {},
   "source": [
    "Saving the created DataFrame"
   ]
  },
  {
   "cell_type": "code",
   "execution_count": 40,
   "metadata": {},
   "outputs": [],
   "source": [
    "#brenda_df.to_pickle(datasets_dir + \"brenda_df_checkpoint_3_V2.pkl\")"
   ]
  },
  {
   "cell_type": "markdown",
   "metadata": {},
   "source": [
    "Alternatively to executing all the steps above, our dataset can be loaded:"
   ]
  },
  {
   "cell_type": "code",
   "execution_count": 41,
   "metadata": {},
   "outputs": [],
   "source": [
    "brenda_df = pd.read_pickle(datasets_dir + \"brenda_df_checkpoint_3.pkl\")"
   ]
  },
  {
   "cell_type": "markdown",
   "metadata": {},
   "source": [
    "## 4. Adding extended-connectivity fingerprints (ECFPs) and extra features (LogP, MW) to the dataset"
   ]
  },
  {
   "cell_type": "markdown",
   "metadata": {},
   "source": [
    "ECFPs, molecular weight (MW) and LogP are calculated from an MDL Molfile of the substrate. The following function downloads Molfiles for all KEGG CIDs and stores them in the directory for datasets in the subfolder named \"mol-files\". This can take up to a couple of hours."
   ]
  },
  {
   "cell_type": "code",
   "execution_count": 42,
   "metadata": {},
   "outputs": [
    {
     "name": "stdout",
     "output_type": "stream",
     "text": [
      "Folder for mol-files already exitsts. If you want to download all mol-files again, first remove the current folder.\n"
     ]
    }
   ],
   "source": [
    "download_mol_files()"
   ]
  },
  {
   "cell_type": "markdown",
   "metadata": {},
   "source": [
    "Calculating the ECFP, MW and LogP for every substrate with an MDL Molfile as the input:"
   ]
  },
  {
   "cell_type": "code",
   "execution_count": 43,
   "metadata": {},
   "outputs": [],
   "source": [
    "brenda_df[\"MW\"] = np.nan\n",
    "brenda_df[\"LogP\"] = np.nan\n",
    "brenda_df[\"ECFP\"] = \"\"\n",
    "\n",
    "for ind in brenda_df.index:\n",
    "    kegg_id = brenda_df[\"KEGG ID\"][ind]\n",
    "    if not pd.isnull(kegg_id):\n",
    "        try:\n",
    "            mol = Chem.MolFromMolFile(datasets_dir +  \"/mol-files/\" + kegg_id + '.mol')\n",
    "        except OSError:\n",
    "            None\n",
    "        if mol is not None:\n",
    "            ecfp = AllChem.GetMorganFingerprintAsBitVect(mol, 3, nBits=1024)\n",
    "            #convert fingerprint to 1024 binary numbers:\n",
    "            ecfp = ecfp.ToBitString()\n",
    "            brenda_df[\"ECFP\"][ind] = str(ecfp) \n",
    "            brenda_df[\"MW\"][ind] = Descriptors.ExactMolWt(mol)\n",
    "            brenda_df[\"LogP\"][ind] = Crippen.MolLogP(mol)"
   ]
  },
  {
   "cell_type": "markdown",
   "metadata": {},
   "source": [
    "Saving the dataset:"
   ]
  },
  {
   "cell_type": "code",
   "execution_count": 44,
   "metadata": {},
   "outputs": [],
   "source": [
    "#brenda_df.to_pickle(datasets_dir + \"brenda_df_checkpoint_4_V2.pkl\")"
   ]
  },
  {
   "cell_type": "markdown",
   "metadata": {},
   "source": [
    "Alternatively to executing all the steps above, our dataset can be loaded:"
   ]
  },
  {
   "cell_type": "code",
   "execution_count": 45,
   "metadata": {},
   "outputs": [],
   "source": [
    "brenda_df = pd.read_pickle(datasets_dir + \"brenda_df_checkpoint_4.pkl\")"
   ]
  },
  {
   "cell_type": "markdown",
   "metadata": {},
   "source": [
    "## 5. Splitting the dataset in training, validation, and test set"
   ]
  },
  {
   "cell_type": "markdown",
   "metadata": {},
   "source": [
    "Before splitting the data in training, test, and validation sets, we log10-transform the $K_M$ value and we take mean of these transformed values for data points with the same functional domains of the enzyme and the same KEGG CID for the substrate:"
   ]
  },
  {
   "cell_type": "code",
   "execution_count": 46,
   "metadata": {},
   "outputs": [
    {
     "data": {
      "text/html": [
       "<div>\n",
       "<style scoped>\n",
       "    .dataframe tbody tr th:only-of-type {\n",
       "        vertical-align: middle;\n",
       "    }\n",
       "\n",
       "    .dataframe tbody tr th {\n",
       "        vertical-align: top;\n",
       "    }\n",
       "\n",
       "    .dataframe thead th {\n",
       "        text-align: right;\n",
       "    }\n",
       "</style>\n",
       "<table border=\"1\" class=\"dataframe\">\n",
       "  <thead>\n",
       "    <tr style=\"text-align: right;\">\n",
       "      <th></th>\n",
       "      <th>KEGG ID</th>\n",
       "      <th>FunD</th>\n",
       "      <th>ECFP</th>\n",
       "      <th>KM</th>\n",
       "      <th>MW</th>\n",
       "      <th>LogP</th>\n",
       "      <th>log10_Km</th>\n",
       "    </tr>\n",
       "  </thead>\n",
       "  <tbody>\n",
       "    <tr>\n",
       "      <th>0</th>\n",
       "      <td>C00002</td>\n",
       "      <td>[0.0, 0.0, 0.0, 0.0, 0.0, 0.0, 0.0, 0.0, 0.0, ...</td>\n",
       "      <td>0000000001000000000000000000000000000000000000...</td>\n",
       "      <td>1.084803</td>\n",
       "      <td>506.995745</td>\n",
       "      <td>-1.6290</td>\n",
       "      <td>-0.917377</td>\n",
       "    </tr>\n",
       "    <tr>\n",
       "      <th>1</th>\n",
       "      <td>C00002</td>\n",
       "      <td>[0.0, 0.0, 0.0, 0.0, 0.0, 0.0, 0.0, 0.0, 0.0, ...</td>\n",
       "      <td>0000000001000000000000000000000000000000000000...</td>\n",
       "      <td>0.025000</td>\n",
       "      <td>506.995745</td>\n",
       "      <td>-1.6290</td>\n",
       "      <td>-1.602060</td>\n",
       "    </tr>\n",
       "    <tr>\n",
       "      <th>2</th>\n",
       "      <td>C00002</td>\n",
       "      <td>[0.0, 0.0, 0.0, 0.0, 0.0, 0.0, 0.0, 0.0, 0.0, ...</td>\n",
       "      <td>0000000001000000000000000000000000000000000000...</td>\n",
       "      <td>0.500000</td>\n",
       "      <td>506.995745</td>\n",
       "      <td>-1.6290</td>\n",
       "      <td>-0.301030</td>\n",
       "    </tr>\n",
       "    <tr>\n",
       "      <th>3</th>\n",
       "      <td>C00002</td>\n",
       "      <td>[0.0, 0.0, 0.0, 0.0, 0.0, 0.0, 0.0, 0.0, 0.0, ...</td>\n",
       "      <td>0000000001000000000000000000000000000000000000...</td>\n",
       "      <td>0.420000</td>\n",
       "      <td>506.995745</td>\n",
       "      <td>-1.6290</td>\n",
       "      <td>-0.376751</td>\n",
       "    </tr>\n",
       "    <tr>\n",
       "      <th>4</th>\n",
       "      <td>C00002</td>\n",
       "      <td>[0.0, 0.0, 0.0, 0.0, 0.0, 0.0, 0.0, 0.0, 0.0, ...</td>\n",
       "      <td>0000000001000000000000000000000000000000000000...</td>\n",
       "      <td>0.393333</td>\n",
       "      <td>506.995745</td>\n",
       "      <td>-1.6290</td>\n",
       "      <td>-0.447374</td>\n",
       "    </tr>\n",
       "    <tr>\n",
       "      <th>...</th>\n",
       "      <td>...</td>\n",
       "      <td>...</td>\n",
       "      <td>...</td>\n",
       "      <td>...</td>\n",
       "      <td>...</td>\n",
       "      <td>...</td>\n",
       "      <td>...</td>\n",
       "    </tr>\n",
       "    <tr>\n",
       "      <th>5153</th>\n",
       "      <td>C21895</td>\n",
       "      <td>[0.0, 0.0, 0.0, 0.0, 0.0, 0.0, 0.0, 0.0, 0.0, ...</td>\n",
       "      <td>0000000000000000000000000000000001000000000000...</td>\n",
       "      <td>0.260000</td>\n",
       "      <td>168.042259</td>\n",
       "      <td>1.0060</td>\n",
       "      <td>-0.585027</td>\n",
       "    </tr>\n",
       "    <tr>\n",
       "      <th>5154</th>\n",
       "      <td>C21896</td>\n",
       "      <td>[0.0, 0.0, 0.0, 0.0, 0.0, 0.0, 0.0, 0.0, 0.0, ...</td>\n",
       "      <td>0000000000000000000000000000000001000000000000...</td>\n",
       "      <td>0.019000</td>\n",
       "      <td>210.052823</td>\n",
       "      <td>1.2086</td>\n",
       "      <td>-1.721246</td>\n",
       "    </tr>\n",
       "    <tr>\n",
       "      <th>5155</th>\n",
       "      <td>C22127</td>\n",
       "      <td>[0.0, 0.0, 0.0, 0.0, 0.0, 0.0, 0.0, 0.0, 0.0, ...</td>\n",
       "      <td>0000000000000100000000000100000101001000000000...</td>\n",
       "      <td>0.040000</td>\n",
       "      <td>622.444469</td>\n",
       "      <td>4.3248</td>\n",
       "      <td>-1.397940</td>\n",
       "    </tr>\n",
       "    <tr>\n",
       "      <th>5156</th>\n",
       "      <td>C22128</td>\n",
       "      <td>[0.0, 0.0, 0.0, 0.0, 0.0, 0.0, 0.0, 0.0, 0.0, ...</td>\n",
       "      <td>0000000000000100000000100000000001001000000000...</td>\n",
       "      <td>0.311000</td>\n",
       "      <td>622.444469</td>\n",
       "      <td>4.3248</td>\n",
       "      <td>-0.507240</td>\n",
       "    </tr>\n",
       "    <tr>\n",
       "      <th>5157</th>\n",
       "      <td>C22131</td>\n",
       "      <td>[0.0, 0.0, 0.0, 0.0, 0.0, 0.0, 0.0, 0.0, 0.0, ...</td>\n",
       "      <td>0000000001010000000000000000000001000000000000...</td>\n",
       "      <td>0.004300</td>\n",
       "      <td>601.082238</td>\n",
       "      <td>-2.7119</td>\n",
       "      <td>-2.366532</td>\n",
       "    </tr>\n",
       "  </tbody>\n",
       "</table>\n",
       "<p>5158 rows × 7 columns</p>\n",
       "</div>"
      ],
      "text/plain": [
       "     KEGG ID                                               FunD  \\\n",
       "0     C00002  [0.0, 0.0, 0.0, 0.0, 0.0, 0.0, 0.0, 0.0, 0.0, ...   \n",
       "1     C00002  [0.0, 0.0, 0.0, 0.0, 0.0, 0.0, 0.0, 0.0, 0.0, ...   \n",
       "2     C00002  [0.0, 0.0, 0.0, 0.0, 0.0, 0.0, 0.0, 0.0, 0.0, ...   \n",
       "3     C00002  [0.0, 0.0, 0.0, 0.0, 0.0, 0.0, 0.0, 0.0, 0.0, ...   \n",
       "4     C00002  [0.0, 0.0, 0.0, 0.0, 0.0, 0.0, 0.0, 0.0, 0.0, ...   \n",
       "...      ...                                                ...   \n",
       "5153  C21895  [0.0, 0.0, 0.0, 0.0, 0.0, 0.0, 0.0, 0.0, 0.0, ...   \n",
       "5154  C21896  [0.0, 0.0, 0.0, 0.0, 0.0, 0.0, 0.0, 0.0, 0.0, ...   \n",
       "5155  C22127  [0.0, 0.0, 0.0, 0.0, 0.0, 0.0, 0.0, 0.0, 0.0, ...   \n",
       "5156  C22128  [0.0, 0.0, 0.0, 0.0, 0.0, 0.0, 0.0, 0.0, 0.0, ...   \n",
       "5157  C22131  [0.0, 0.0, 0.0, 0.0, 0.0, 0.0, 0.0, 0.0, 0.0, ...   \n",
       "\n",
       "                                                   ECFP        KM          MW  \\\n",
       "0     0000000001000000000000000000000000000000000000...  1.084803  506.995745   \n",
       "1     0000000001000000000000000000000000000000000000...  0.025000  506.995745   \n",
       "2     0000000001000000000000000000000000000000000000...  0.500000  506.995745   \n",
       "3     0000000001000000000000000000000000000000000000...  0.420000  506.995745   \n",
       "4     0000000001000000000000000000000000000000000000...  0.393333  506.995745   \n",
       "...                                                 ...       ...         ...   \n",
       "5153  0000000000000000000000000000000001000000000000...  0.260000  168.042259   \n",
       "5154  0000000000000000000000000000000001000000000000...  0.019000  210.052823   \n",
       "5155  0000000000000100000000000100000101001000000000...  0.040000  622.444469   \n",
       "5156  0000000000000100000000100000000001001000000000...  0.311000  622.444469   \n",
       "5157  0000000001010000000000000000000001000000000000...  0.004300  601.082238   \n",
       "\n",
       "        LogP  log10_Km  \n",
       "0    -1.6290 -0.917377  \n",
       "1    -1.6290 -1.602060  \n",
       "2    -1.6290 -0.301030  \n",
       "3    -1.6290 -0.376751  \n",
       "4    -1.6290 -0.447374  \n",
       "...      ...       ...  \n",
       "5153  1.0060 -0.585027  \n",
       "5154  1.2086 -1.721246  \n",
       "5155  4.3248 -1.397940  \n",
       "5156  4.3248 -0.507240  \n",
       "5157 -2.7119 -2.366532  \n",
       "\n",
       "[5158 rows x 7 columns]"
      ]
     },
     "execution_count": 46,
     "metadata": {},
     "output_type": "execute_result"
    }
   ],
   "source": [
    "brenda_df[\"log10_Km\"] = [np.log10(float(Km)) for Km in brenda_df[\"KM\"]]\n",
    "\n",
    "# To take the mean, we have to convert the functional domains into strings:\n",
    "brenda_df[\"FunD\"] = [str(list(FunD)) for FunD in brenda_df[\"FunD\"]]\n",
    "\n",
    "#taking the mean:\n",
    "brenda_df = brenda_df.groupby([\"KEGG ID\", \"FunD\", \"ECFP\"]).mean().reset_index()\n",
    "\n",
    "#we convert the functional domains back into arrays:\n",
    "brenda_df[\"FunD\"] = [eval(FunD) for FunD in brenda_df[\"FunD\"]]\n",
    "brenda_df"
   ]
  },
  {
   "cell_type": "markdown",
   "metadata": {},
   "source": [
    "Splitting data in 70 % training data, 10% validation data, and 20 % test data:"
   ]
  },
  {
   "cell_type": "code",
   "execution_count": 47,
   "metadata": {},
   "outputs": [],
   "source": [
    "y = np.array(brenda_df[\"log10_Km\"])\n",
    "\n",
    "#removing completely unrealsitc outliers:\n",
    "brenda_df = brenda_df.loc[y> -5]\n",
    "y = y[y> -5]\n",
    "\n",
    "bins = np.linspace(min(y)+1.5, max(y)-1.5, 15)\n",
    "y_binned = np.digitize(y, bins)\n",
    "X_train, X_test, y_train, y_test = train_test_split(brenda_df, y_binned, test_size=0.2, stratify=y_binned, random_state=42)\n",
    "\n",
    "y = np.array(X_train[\"log10_Km\"])\n",
    "bins = np.linspace(min(y)+1.5, max(y)-1.5, 15)\n",
    "y_binned = np.digitize(y, bins)\n",
    "X_train, X_val, y_train, y_val = train_test_split(X_train, y_binned, test_size=0.125, stratify=y_binned, random_state=42)"
   ]
  },
  {
   "cell_type": "code",
   "execution_count": 48,
   "metadata": {},
   "outputs": [],
   "source": [
    "X_test.to_pickle(datasets_dir + \"test_data_V2.pkl\")\n",
    "X_train.to_pickle(datasets_dir + \"training_data_V2.pkl\")\n",
    "X_val.to_pickle(datasets_dir + \"validation_data_V2.pkl\")"
   ]
  }
 ],
 "metadata": {
  "kernelspec": {
   "display_name": "Python 3",
   "language": "python",
   "name": "python3"
  },
  "language_info": {
   "codemirror_mode": {
    "name": "ipython",
    "version": 3
   },
   "file_extension": ".py",
   "mimetype": "text/x-python",
   "name": "python",
   "nbconvert_exporter": "python",
   "pygments_lexer": "ipython3",
   "version": "3.7.7"
  }
 },
 "nbformat": 4,
 "nbformat_minor": 2
}
