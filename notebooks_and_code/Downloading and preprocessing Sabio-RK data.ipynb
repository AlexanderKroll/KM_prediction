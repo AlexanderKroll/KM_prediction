{
 "cells": [
  {
   "cell_type": "markdown",
   "metadata": {},
   "source": [
    "# Content of the notebook"
   ]
  },
  {
   "cell_type": "markdown",
   "metadata": {},
   "source": [
    "This notebook contains all steps to create the additional test set, downloaded from Sabio-RK, to vaildate the KM prediction model used in the paper \"Prediction of Michaelis constants $K_M$ from structural features\"."
   ]
  },
  {
   "cell_type": "markdown",
   "metadata": {},
   "source": [
    "The location of the folder with all datasets must be changed (to the corresponding path on your PC) in the python file \"directory_infomation.py\" before executing this notebook."
   ]
  },
  {
   "cell_type": "markdown",
   "metadata": {},
   "source": [
    "## The notebook consists of the following steps:"
   ]
  },
  {
   "cell_type": "markdown",
   "metadata": {},
   "source": [
    "1. Downloading data from Sabio-RK and removing all data points that are in the BRENDA database\n",
    "2. Mapping substrate names to KEGG Compound IDs\n",
    "3. Downloading amino acid sequences for all enzymes:\n",
    "4. Calculating UniRep vectors for the amino acid sequences of the enzymes\n",
    "5. Adding GNN fingerprints, MW, and LogP for the substrates\n",
    "6. Making predictions for all data points"
   ]
  },
  {
   "cell_type": "markdown",
   "metadata": {},
   "source": [
    "Loading all the necessary packages and functions to execute the code:"
   ]
  },
  {
   "cell_type": "code",
   "execution_count": 1,
   "metadata": {},
   "outputs": [],
   "source": [
    "import requests\n",
    "import pandas as pd\n",
    "import numpy as np\n",
    "import sys\n",
    "import os\n",
    "from os.path import join\n",
    "import math\n",
    "import time\n",
    "import logging\n",
    "import matplotlib.pyplot as plt\n",
    "from tensorflow.keras import backend as K\n",
    "import xgboost as xgb\n",
    "from sklearn.metrics import r2_score\n",
    "\n",
    "from rdkit import Chem\n",
    "from rdkit.Chem import Crippen\n",
    "from rdkit.Chem import Descriptors\n",
    "\n",
    "logfile = \"datacount_sabio.log\"\n",
    "\n",
    "\n",
    "from directory_infomation import *\n",
    "\n",
    "from build_GNN import *\n",
    "from functions_and_dicts_data_preprocessing_GNN import *\n",
    "from functions_for_data_preprocessing import *\n",
    "#from functions_for_unirep_calculations import *"
   ]
  },
  {
   "cell_type": "markdown",
   "metadata": {},
   "source": [
    "## 1. Download data from Sabio-RK and removing all data points that are in the BRENDA database:"
   ]
  },
  {
   "cell_type": "code",
   "execution_count": 5,
   "metadata": {},
   "outputs": [
    {
     "name": "stdout",
     "output_type": "stream",
     "text": [
      "67858 matching entries found.\n",
      "Downloading...\n",
      "Download finished! 44647\n"
     ]
    }
   ],
   "source": [
    "wsdl = \"https://www.brenda-enzymes.org/soap/brenda_zeep.wsdl\"\n",
    "password = hashlib.sha256(\"a2b8c6\".encode(\"utf-8\")).hexdigest()\n",
    "email = \"alexander.kroll@hhu.de\"\n",
    "client = Client(wsdl)\n",
    "\n",
    "df = download_sabio_data()\n",
    "df.to_csv(join(datasets_dir, \"Sabio_data\", \"Sabio_raw_data.csv\"))"
   ]
  },
  {
   "cell_type": "code",
   "execution_count": 6,
   "metadata": {},
   "outputs": [],
   "source": [
    "df = pd.read_csv(join(datasets_dir, \"Sabio_data\", \"Sabio_raw_data.csv\"))\n",
    "\n",
    "df = preprocess_raw_sabio_DataFrame(df)"
   ]
  },
  {
   "cell_type": "markdown",
   "metadata": {},
   "source": [
    "Check for all PubMedIDs in the Sabio dataset if they occur in the BRENDA dataset. If yes, we remove these data points:"
   ]
  },
  {
   "cell_type": "code",
   "execution_count": 7,
   "metadata": {},
   "outputs": [
    {
     "data": {
      "text/html": [
       "<div>\n",
       "<style scoped>\n",
       "    .dataframe tbody tr th:only-of-type {\n",
       "        vertical-align: middle;\n",
       "    }\n",
       "\n",
       "    .dataframe tbody tr th {\n",
       "        vertical-align: top;\n",
       "    }\n",
       "\n",
       "    .dataframe thead th {\n",
       "        text-align: right;\n",
       "    }\n",
       "</style>\n",
       "<table border=\"1\" class=\"dataframe\">\n",
       "  <thead>\n",
       "    <tr style=\"text-align: right;\">\n",
       "      <th></th>\n",
       "      <th>Organism</th>\n",
       "      <th>ECNumber</th>\n",
       "      <th>KM</th>\n",
       "      <th>PubMedID</th>\n",
       "      <th>substrate</th>\n",
       "      <th>UniprotID</th>\n",
       "      <th>log10_KM</th>\n",
       "    </tr>\n",
       "  </thead>\n",
       "  <tbody>\n",
       "    <tr>\n",
       "      <th>245</th>\n",
       "      <td>Serratia marcescens</td>\n",
       "      <td>3.2.1.14</td>\n",
       "      <td>5.900000e-05</td>\n",
       "      <td>15178342.0</td>\n",
       "      <td>Chitobiose</td>\n",
       "      <td>P07254 P11797</td>\n",
       "      <td>-1.229148</td>\n",
       "    </tr>\n",
       "    <tr>\n",
       "      <th>251</th>\n",
       "      <td>Serratia marcescens</td>\n",
       "      <td>3.2.1.14</td>\n",
       "      <td>6.000000e-04</td>\n",
       "      <td>15178342.0</td>\n",
       "      <td>Chitobiose</td>\n",
       "      <td>P07254 P11797</td>\n",
       "      <td>-0.221849</td>\n",
       "    </tr>\n",
       "    <tr>\n",
       "      <th>254</th>\n",
       "      <td>Serratia marcescens</td>\n",
       "      <td>3.2.1.14</td>\n",
       "      <td>6.300000e-05</td>\n",
       "      <td>15178342.0</td>\n",
       "      <td>Chitobiose</td>\n",
       "      <td>P07254 P11797</td>\n",
       "      <td>-1.200659</td>\n",
       "    </tr>\n",
       "    <tr>\n",
       "      <th>469</th>\n",
       "      <td>Rattus norvegicus</td>\n",
       "      <td>3.1.3.11</td>\n",
       "      <td>1.000000e-05</td>\n",
       "      <td>8396135.0</td>\n",
       "      <td>D-Fructose 1,6-bisphosphate</td>\n",
       "      <td>Q9Z1N1 P19112</td>\n",
       "      <td>-2.000000</td>\n",
       "    </tr>\n",
       "    <tr>\n",
       "      <th>495</th>\n",
       "      <td>Sus scrofa</td>\n",
       "      <td>1.1.1.42</td>\n",
       "      <td>3.300000e-07</td>\n",
       "      <td>15005617.0</td>\n",
       "      <td>Mn2+</td>\n",
       "      <td>P33198</td>\n",
       "      <td>-3.481486</td>\n",
       "    </tr>\n",
       "    <tr>\n",
       "      <th>...</th>\n",
       "      <td>...</td>\n",
       "      <td>...</td>\n",
       "      <td>...</td>\n",
       "      <td>...</td>\n",
       "      <td>...</td>\n",
       "      <td>...</td>\n",
       "      <td>...</td>\n",
       "    </tr>\n",
       "    <tr>\n",
       "      <th>43442</th>\n",
       "      <td>Enterococcus faecalis</td>\n",
       "      <td>2.7.1.30</td>\n",
       "      <td>9.000000e-04</td>\n",
       "      <td>3011747.0</td>\n",
       "      <td>Glycerol</td>\n",
       "      <td>O34154</td>\n",
       "      <td>-0.045757</td>\n",
       "    </tr>\n",
       "    <tr>\n",
       "      <th>44468</th>\n",
       "      <td>Homo sapiens</td>\n",
       "      <td>5.1.3.2</td>\n",
       "      <td>1.400000e-04</td>\n",
       "      <td>11841944.0</td>\n",
       "      <td>UDPgalactose</td>\n",
       "      <td>Q14376</td>\n",
       "      <td>-0.853872</td>\n",
       "    </tr>\n",
       "    <tr>\n",
       "      <th>44469</th>\n",
       "      <td>Escherichia coli</td>\n",
       "      <td>1.1.1.22</td>\n",
       "      <td>2.000000e-05</td>\n",
       "      <td>11841944.0</td>\n",
       "      <td>UDPglucose</td>\n",
       "      <td>P76373</td>\n",
       "      <td>-1.698970</td>\n",
       "    </tr>\n",
       "    <tr>\n",
       "      <th>44473</th>\n",
       "      <td>Streptococcus thermophilus</td>\n",
       "      <td>5.1.3.2</td>\n",
       "      <td>1.000000e-04</td>\n",
       "      <td>11841944.0</td>\n",
       "      <td>UDPgalactose</td>\n",
       "      <td>P21977</td>\n",
       "      <td>-1.000000</td>\n",
       "    </tr>\n",
       "    <tr>\n",
       "      <th>44485</th>\n",
       "      <td>Homo sapiens</td>\n",
       "      <td>5.1.3.2</td>\n",
       "      <td>1.400000e-04</td>\n",
       "      <td>11841944.0</td>\n",
       "      <td>UDPgalactose</td>\n",
       "      <td>Q14376</td>\n",
       "      <td>-0.853872</td>\n",
       "    </tr>\n",
       "  </tbody>\n",
       "</table>\n",
       "<p>689 rows × 7 columns</p>\n",
       "</div>"
      ],
      "text/plain": [
       "                         Organism  ECNumber            KM    PubMedID  \\\n",
       "245           Serratia marcescens  3.2.1.14  5.900000e-05  15178342.0   \n",
       "251           Serratia marcescens  3.2.1.14  6.000000e-04  15178342.0   \n",
       "254           Serratia marcescens  3.2.1.14  6.300000e-05  15178342.0   \n",
       "469             Rattus norvegicus  3.1.3.11  1.000000e-05   8396135.0   \n",
       "495                    Sus scrofa  1.1.1.42  3.300000e-07  15005617.0   \n",
       "...                           ...       ...           ...         ...   \n",
       "43442       Enterococcus faecalis  2.7.1.30  9.000000e-04   3011747.0   \n",
       "44468                Homo sapiens   5.1.3.2  1.400000e-04  11841944.0   \n",
       "44469            Escherichia coli  1.1.1.22  2.000000e-05  11841944.0   \n",
       "44473  Streptococcus thermophilus   5.1.3.2  1.000000e-04  11841944.0   \n",
       "44485                Homo sapiens   5.1.3.2  1.400000e-04  11841944.0   \n",
       "\n",
       "                         substrate      UniprotID  log10_KM  \n",
       "245                     Chitobiose  P07254 P11797 -1.229148  \n",
       "251                     Chitobiose  P07254 P11797 -0.221849  \n",
       "254                     Chitobiose  P07254 P11797 -1.200659  \n",
       "469    D-Fructose 1,6-bisphosphate  Q9Z1N1 P19112 -2.000000  \n",
       "495                           Mn2+         P33198 -3.481486  \n",
       "...                            ...            ...       ...  \n",
       "43442                     Glycerol         O34154 -0.045757  \n",
       "44468                 UDPgalactose         Q14376 -0.853872  \n",
       "44469                   UDPglucose         P76373 -1.698970  \n",
       "44473                 UDPgalactose         P21977 -1.000000  \n",
       "44485                 UDPgalactose         Q14376 -0.853872  \n",
       "\n",
       "[689 rows x 7 columns]"
      ]
     },
     "execution_count": 7,
     "metadata": {},
     "output_type": "execute_result"
    }
   ],
   "source": [
    "Sabio_PMIDs = list(set(df[\"PubMedID\"]))\n",
    "PMIDs_in_BRENDA = get_PMIDs_that_are_in_BRENDA(Sabio_PMIDs, df)\n",
    "\n",
    "droplist = []\n",
    "\n",
    "for ind in df.index:\n",
    "    if df[\"PubMedID\"][ind] in PMIDs_in_BRENDA:\n",
    "        droplist.append(ind)\n",
    "        \n",
    "df.drop(droplist, inplace = True)\n",
    "sabio_df = df\n",
    "sabio_df"
   ]
  },
  {
   "cell_type": "markdown",
   "metadata": {},
   "source": [
    "## 2. Mapping substrate names to KEGG Compound IDs"
   ]
  },
  {
   "cell_type": "markdown",
   "metadata": {},
   "source": [
    "### (a) Mapping substrate names from BRENDA to KEGG Compound IDs (CIDs)"
   ]
  },
  {
   "cell_type": "code",
   "execution_count": 8,
   "metadata": {},
   "outputs": [
    {
     "data": {
      "text/html": [
       "<div>\n",
       "<style scoped>\n",
       "    .dataframe tbody tr th:only-of-type {\n",
       "        vertical-align: middle;\n",
       "    }\n",
       "\n",
       "    .dataframe tbody tr th {\n",
       "        vertical-align: top;\n",
       "    }\n",
       "\n",
       "    .dataframe thead th {\n",
       "        text-align: right;\n",
       "    }\n",
       "</style>\n",
       "<table border=\"1\" class=\"dataframe\">\n",
       "  <thead>\n",
       "    <tr style=\"text-align: right;\">\n",
       "      <th></th>\n",
       "      <th>KEGG ID</th>\n",
       "      <th>substrate</th>\n",
       "    </tr>\n",
       "  </thead>\n",
       "  <tbody>\n",
       "    <tr>\n",
       "      <th>0</th>\n",
       "      <td>C00001</td>\n",
       "      <td>H2O</td>\n",
       "    </tr>\n",
       "    <tr>\n",
       "      <th>1</th>\n",
       "      <td>C00001</td>\n",
       "      <td>Water</td>\n",
       "    </tr>\n",
       "    <tr>\n",
       "      <th>2</th>\n",
       "      <td>C00002</td>\n",
       "      <td>ATP</td>\n",
       "    </tr>\n",
       "    <tr>\n",
       "      <th>3</th>\n",
       "      <td>C00002</td>\n",
       "      <td>Adenosine 5'-triphosphate</td>\n",
       "    </tr>\n",
       "    <tr>\n",
       "      <th>4</th>\n",
       "      <td>C00003</td>\n",
       "      <td>NAD+</td>\n",
       "    </tr>\n",
       "  </tbody>\n",
       "</table>\n",
       "</div>"
      ],
      "text/plain": [
       "  KEGG ID                  substrate\n",
       "0  C00001                        H2O\n",
       "1  C00001                      Water\n",
       "2  C00002                        ATP\n",
       "3  C00002  Adenosine 5'-triphosphate\n",
       "4  C00003                       NAD+"
      ]
     },
     "execution_count": 8,
     "metadata": {},
     "output_type": "execute_result"
    }
   ],
   "source": [
    "drugs_df = pd.read_pickle(join(datasets_dir, \"substrate_synonyms\", \"KEGG_drugs_df.pkl\"))\n",
    "compounds_df = pd.read_pickle(join(datasets_dir, \"substrate_synonyms\", \"KEGG_substrate_df.pkl\"))\n",
    "KEGG_substrate_df = compounds_df.append(drugs_df).reset_index(drop = True)\n",
    "\n",
    "##If we have multiple IDs for the same substrate name, we keep the first ID:\n",
    "droplist = []\n",
    "for ind in KEGG_substrate_df.index:\n",
    "    if not ind in droplist:\n",
    "        substrate = KEGG_substrate_df[\"substrate\"][ind]\n",
    "        help_df = KEGG_substrate_df.loc[KEGG_substrate_df[\"substrate\"] == substrate]\n",
    "        if len(help_df) > 1 :\n",
    "            droplist = droplist + list(help_df.index)[1:]\n",
    "\n",
    "KEGG_substrate_df.drop(droplist, inplace = True)\n",
    "KEGG_substrate_df.head()"
   ]
  },
  {
   "cell_type": "markdown",
   "metadata": {},
   "source": [
    "Converting all substrate names in KEGG_substrate_df and sabio_df to substrate names that only contain lower case letters:"
   ]
  },
  {
   "cell_type": "code",
   "execution_count": 9,
   "metadata": {},
   "outputs": [],
   "source": [
    "KEGG_substrate_df[\"substrate\"] = [name.lower() for name in KEGG_substrate_df[\"substrate\"]]\n",
    "sabio_df[\"substrate\"] = [name.lower() for name in sabio_df[\"substrate\"]]"
   ]
  },
  {
   "cell_type": "markdown",
   "metadata": {},
   "source": [
    "Mapping substrate names from brenda_df to KEGG CIDs:"
   ]
  },
  {
   "cell_type": "code",
   "execution_count": 10,
   "metadata": {},
   "outputs": [
    {
     "name": "stdout",
     "output_type": "stream",
     "text": [
      "For 12 out of 689 data points we could not map the substrate name to a KEGG ID.\n"
     ]
    }
   ],
   "source": [
    "sabio_df = sabio_df.merge(KEGG_substrate_df, on = \"substrate\", how = \"left\")\n",
    "print(\"For %s out of %s data points we could not map the substrate name to a KEGG ID.\" %\n",
    "      (sum(pd.isnull(sabio_df[\"KEGG ID\"])), len(sabio_df)))"
   ]
  },
  {
   "cell_type": "markdown",
   "metadata": {},
   "source": [
    "###  (b) For all the substrate names that could not be mapped to KEGG CIDs yet: We try to map them with a synonym list from PubChem to PubChem CIDs first and then to KEGG CIDs"
   ]
  },
  {
   "cell_type": "code",
   "execution_count": 11,
   "metadata": {},
   "outputs": [
    {
     "name": "stdout",
     "output_type": "stream",
     "text": [
      "loading part 1 of 5 of the synonym list...\n",
      "searching in synoynm list part 1 for matches\n",
      "loading part 2 of 5 of the synonym list...\n",
      "searching in synoynm list part 2 for matches\n",
      "loading part 3 of 5 of the synonym list...\n",
      "searching in synoynm list part 3 for matches\n",
      "loading part 4 of 5 of the synonym list...\n",
      "searching in synoynm list part 4 for matches\n",
      "loading part 5 of 5 of the synonym list...\n",
      "searching in synoynm list part 5 for matches\n"
     ]
    }
   ],
   "source": [
    "#creating a list with all substrate names that couldn't be mapped to KEGG IDs\n",
    "unmapped_substrates = list(set(list(sabio_df[\"substrate\"][pd.isnull(list(sabio_df[\"KEGG ID\"]))])))\n",
    "matches = substrate_names_to_Pubchem_CIDs(unmapped_substrates)"
   ]
  },
  {
   "cell_type": "code",
   "execution_count": 12,
   "metadata": {},
   "outputs": [],
   "source": [
    "matches.to_pickle(join(datasets_dir, \"substrate_synonyms\", \"Pubchem_substrate_matches_sabio.pkl\"))"
   ]
  },
  {
   "cell_type": "markdown",
   "metadata": {},
   "source": [
    "Mapping all PubChem CIDs to KEGG CIDs: Therefore, we create a txt-file (\"Pubchem_CIDs_sabio.txt\") that contains all PubChem CIDs that we want to map to KEGG CIDs:"
   ]
  },
  {
   "cell_type": "code",
   "execution_count": 13,
   "metadata": {},
   "outputs": [],
   "source": [
    "matches = pd.read_pickle(join(datasets_dir, \"substrate_synonyms\", \"Pubchem_substrate_matches_sabio.pkl\"))\n",
    "\n",
    "#convert CIDs from strings to integers:\n",
    "for ind in matches.index:\n",
    "    cid = matches.loc[ind][\"CID\"]\n",
    "    if not pd.isnull(cid):\n",
    "        matches[\"CID\"][ind] = int(cid)\n",
    "        \n",
    "        \n",
    "#create txt file with all CIDs in matches:\n",
    "CIDs = list(matches.loc[~ pd.isnull(matches[\"CID\"])][\"CID\"])\n",
    "f = open(join(datasets_dir, \"substrate_synonyms\", \"Pubchem_CIDs_sabio.txt\"),\"w\") \n",
    "for cid in CIDs:\n",
    "    f.write(str(cid) + \"\\n\")\n",
    "f.close()"
   ]
  },
  {
   "cell_type": "markdown",
   "metadata": {},
   "source": [
    "The txt-file \"Pubchem_CIDs.txt\" can be used as the input for the webservice http://csbg.cnb.csic.es/mbrole2/conversion.php to map the Pubchem CIDs to KEGG CIDs. The resulting file \"mbrole_conversion.tsv\" should be stored in the directory for substrate synonyms."
   ]
  },
  {
   "cell_type": "code",
   "execution_count": 14,
   "metadata": {},
   "outputs": [
    {
     "data": {
      "text/html": [
       "<div>\n",
       "<style scoped>\n",
       "    .dataframe tbody tr th:only-of-type {\n",
       "        vertical-align: middle;\n",
       "    }\n",
       "\n",
       "    .dataframe tbody tr th {\n",
       "        vertical-align: top;\n",
       "    }\n",
       "\n",
       "    .dataframe thead th {\n",
       "        text-align: right;\n",
       "    }\n",
       "</style>\n",
       "<table border=\"1\" class=\"dataframe\">\n",
       "  <thead>\n",
       "    <tr style=\"text-align: right;\">\n",
       "      <th></th>\n",
       "      <th>substrate</th>\n",
       "      <th>CID</th>\n",
       "      <th>KEGG ID</th>\n",
       "    </tr>\n",
       "  </thead>\n",
       "  <tbody>\n",
       "    <tr>\n",
       "      <th>0</th>\n",
       "      <td>delta(l-2-aminoadipyl)-l-cysteinyl-d-valine</td>\n",
       "      <td>448130</td>\n",
       "      <td>NaN</td>\n",
       "    </tr>\n",
       "    <tr>\n",
       "      <th>1</th>\n",
       "      <td>glycerate 2-phosphate</td>\n",
       "      <td>59</td>\n",
       "      <td>NaN</td>\n",
       "    </tr>\n",
       "    <tr>\n",
       "      <th>2</th>\n",
       "      <td>9,10-epoxystearic acid</td>\n",
       "      <td>15868</td>\n",
       "      <td>C19418</td>\n",
       "    </tr>\n",
       "    <tr>\n",
       "      <th>3</th>\n",
       "      <td>cd2+</td>\n",
       "      <td>31193</td>\n",
       "      <td>NaN</td>\n",
       "    </tr>\n",
       "    <tr>\n",
       "      <th>4</th>\n",
       "      <td>2,3-dimethoxy-5-methyl-1,4-benzoquinone</td>\n",
       "      <td>69068</td>\n",
       "      <td>NaN</td>\n",
       "    </tr>\n",
       "  </tbody>\n",
       "</table>\n",
       "</div>"
      ],
      "text/plain": [
       "                                     substrate     CID KEGG ID\n",
       "0  delta(l-2-aminoadipyl)-l-cysteinyl-d-valine  448130     NaN\n",
       "1                        glycerate 2-phosphate      59     NaN\n",
       "2                       9,10-epoxystearic acid   15868  C19418\n",
       "3                                         cd2+   31193     NaN\n",
       "4      2,3-dimethoxy-5-methyl-1,4-benzoquinone   69068     NaN"
      ]
     },
     "execution_count": 14,
     "metadata": {},
     "output_type": "execute_result"
    }
   ],
   "source": [
    "#load the resulting file and store it in a DataFrame:\n",
    "Pubchem_CID_to_KEGG_df = pd.read_csv(join(datasets_dir, \"substrate_synonyms\", \"mbrole2_conversion_sabio.tsv\"), sep= \"\\t\")\n",
    "#rename columns:\n",
    "Pubchem_CID_to_KEGG_df.rename(columns = {\"Input\" : \"CID\", \"Output\" : \"KEGG ID\"}, inplace = True)\n",
    "\n",
    "#merge this DataFrame with the DataFrame called matches:\n",
    "macthes_with_KEGG_IDs = pd.merge(matches, Pubchem_CID_to_KEGG_df, how='left', on=['CID'])\n",
    "macthes_with_KEGG_IDs.drop(columns = [\"Input_source\", \"Output_source\"], inplace = True)\n",
    "macthes_with_KEGG_IDs.rename(columns = {\"Metabolite\" : \"substrate\"}, inplace = True)\n",
    "\n",
    "macthes_with_KEGG_IDs.head()"
   ]
  },
  {
   "cell_type": "markdown",
   "metadata": {},
   "source": [
    "Mapping all newly found KEGG CIDs to substrate names in the Brenda DataFrame:"
   ]
  },
  {
   "cell_type": "code",
   "execution_count": 15,
   "metadata": {},
   "outputs": [
    {
     "name": "stderr",
     "output_type": "stream",
     "text": [
      "C:\\Users\\alexk\\anaconda3\\envs\\Predicting_Km\\lib\\site-packages\\ipykernel_launcher.py:6: SettingWithCopyWarning: \n",
      "A value is trying to be set on a copy of a slice from a DataFrame\n",
      "\n",
      "See the caveats in the documentation: https://pandas.pydata.org/pandas-docs/stable/user_guide/indexing.html#returning-a-view-versus-a-copy\n",
      "  \n"
     ]
    }
   ],
   "source": [
    "for ind in sabio_df.index:\n",
    "    if pd.isnull(sabio_df[\"KEGG ID\"][ind]):\n",
    "        substrate = sabio_df[\"substrate\"][ind]\n",
    "        try:\n",
    "            KEGG_ID = list(macthes_with_KEGG_IDs.loc[macthes_with_KEGG_IDs[\"substrate\"]== substrate][\"KEGG ID\"])[0]\n",
    "            sabio_df[\"KEGG ID\"][ind] = KEGG_ID\n",
    "        except:\n",
    "            None"
   ]
  },
  {
   "cell_type": "code",
   "execution_count": 16,
   "metadata": {},
   "outputs": [],
   "source": [
    "sabio_df = sabio_df.loc[~pd.isnull(sabio_df[\"KEGG ID\"])]\n",
    "#remove KM values for ions:\n",
    "sabio_df = sabio_df.loc[sabio_df[\"KEGG ID\"] != \"C19610\"]\n",
    "sabio_df = sabio_df.loc[sabio_df[\"KEGG ID\"] != \"C00305\"]\n",
    "sabio_df = sabio_df.loc[sabio_df[\"KEGG ID\"] != \"C00038\"]"
   ]
  },
  {
   "cell_type": "markdown",
   "metadata": {},
   "source": [
    "Take the geometric mean over all KM values if they have the same KEGG and Uniprot ID:"
   ]
  },
  {
   "cell_type": "code",
   "execution_count": 17,
   "metadata": {},
   "outputs": [],
   "source": [
    "sabio_df = sabio_df.drop(columns = [\"PubMedID\", \"ECNumber\", \"substrate\", \"KM\"])\n",
    "sabio_df = sabio_df.groupby([\"Organism\", \"UniprotID\", \"KEGG ID\"], as_index = False).mean()\n",
    "sabio_df\n",
    "sabio_df.to_pickle(join(datasets_dir, \"Sabio_data\", \"sabio_df_checkpoint1_V2.pkl\"))"
   ]
  },
  {
   "cell_type": "markdown",
   "metadata": {},
   "source": [
    "## 3. Downloading amino acid sequences for all enzymes:"
   ]
  },
  {
   "cell_type": "markdown",
   "metadata": {},
   "source": [
    "### (a) If we have a Uniprot ID for the enzyme, we use the UniProt mapping service to get the amino acid sequence"
   ]
  },
  {
   "cell_type": "markdown",
   "metadata": {},
   "source": [
    "Creating a text file with all all Uniprot IDs in our DataFrame:"
   ]
  },
  {
   "cell_type": "code",
   "execution_count": 18,
   "metadata": {},
   "outputs": [],
   "source": [
    "#sabio_df = pd.read_pickle(join(datasets_dir, \"Sabio_data\", \"sabio_df_checkpoint1_V2.pkl\"))\n",
    "IDs = []\n",
    "for ind in sabio_df.index:\n",
    "    IDs = IDs + [sabio_df[\"UniprotID\"][ind]]\n",
    "    \n",
    "f = open(join(datasets_dir, \"enzyme_data\", \"UNIPROT_IDs_sabio.txt\"),\"w\") \n",
    "for ID in list(set(IDs)):\n",
    "    f.write(str(ID) + \"\\n\")\n",
    "f.close()"
   ]
  },
  {
   "cell_type": "markdown",
   "metadata": {},
   "source": [
    "We map the Uniprot IDs to amino acid sequences via the UniProt mapping service (https://www.uniprot.org/uploadlists/). The result is stored in a csv-file:"
   ]
  },
  {
   "cell_type": "code",
   "execution_count": 19,
   "metadata": {},
   "outputs": [
    {
     "name": "stderr",
     "output_type": "stream",
     "text": [
      "C:\\Users\\alexk\\anaconda3\\envs\\Predicting_Km\\lib\\site-packages\\ipykernel_launcher.py:8: SettingWithCopyWarning: \n",
      "A value is trying to be set on a copy of a slice from a DataFrame\n",
      "\n",
      "See the caveats in the documentation: https://pandas.pydata.org/pandas-docs/stable/user_guide/indexing.html#returning-a-view-versus-a-copy\n",
      "  \n"
     ]
    }
   ],
   "source": [
    "sabio_df[\"Sequence\"] = \"\"\n",
    "\n",
    "UNIPROT_df = pd.read_csv(join(datasets_dir, \"enzyme_data\", \"UNIPROT_results_sabio.csv\"), sep = \";\")\n",
    "\n",
    "for ind in sabio_df.index:\n",
    "    ID = sabio_df[\"UniprotID\"][ind]\n",
    "    try:\n",
    "        sabio_df[\"Sequence\"][ind] = list((UNIPROT_df[\"Sequence\"].loc[UNIPROT_df[\"UNIPROT ID\"] == ID]))[0]\n",
    "    except: pass"
   ]
  },
  {
   "cell_type": "code",
   "execution_count": 20,
   "metadata": {},
   "outputs": [
    {
     "data": {
      "text/html": [
       "<div>\n",
       "<style scoped>\n",
       "    .dataframe tbody tr th:only-of-type {\n",
       "        vertical-align: middle;\n",
       "    }\n",
       "\n",
       "    .dataframe tbody tr th {\n",
       "        vertical-align: top;\n",
       "    }\n",
       "\n",
       "    .dataframe thead th {\n",
       "        text-align: right;\n",
       "    }\n",
       "</style>\n",
       "<table border=\"1\" class=\"dataframe\">\n",
       "  <thead>\n",
       "    <tr style=\"text-align: right;\">\n",
       "      <th></th>\n",
       "      <th>Organism</th>\n",
       "      <th>UniprotID</th>\n",
       "      <th>KEGG ID</th>\n",
       "      <th>log10_KM</th>\n",
       "      <th>Sequence</th>\n",
       "    </tr>\n",
       "  </thead>\n",
       "  <tbody>\n",
       "    <tr>\n",
       "      <th>0</th>\n",
       "      <td>Acetobacter pasteurianus</td>\n",
       "      <td>Q8L388</td>\n",
       "      <td>C00022</td>\n",
       "      <td>0.149317</td>\n",
       "      <td>MTYTVGMYLAERLVQIGLKHHFAVGGDYNLVLLDQLLLNKDMKQIY...</td>\n",
       "    </tr>\n",
       "    <tr>\n",
       "      <th>1</th>\n",
       "      <td>Aeropyrum pernix</td>\n",
       "      <td>Q9YA47</td>\n",
       "      <td>C00002</td>\n",
       "      <td>-0.376751</td>\n",
       "      <td>MAEVVAVDVGATWVRMAIVRGGVIEAIKRERNPGTEEGLERVLQGL...</td>\n",
       "    </tr>\n",
       "    <tr>\n",
       "      <th>2</th>\n",
       "      <td>Aeropyrum pernix</td>\n",
       "      <td>Q9YA47</td>\n",
       "      <td>C00031</td>\n",
       "      <td>-1.356547</td>\n",
       "      <td>MAEVVAVDVGATWVRMAIVRGGVIEAIKRERNPGTEEGLERVLQGL...</td>\n",
       "    </tr>\n",
       "    <tr>\n",
       "      <th>3</th>\n",
       "      <td>Aeropyrum pernix</td>\n",
       "      <td>Q9YA47</td>\n",
       "      <td>C00095</td>\n",
       "      <td>-0.823909</td>\n",
       "      <td>MAEVVAVDVGATWVRMAIVRGGVIEAIKRERNPGTEEGLERVLQGL...</td>\n",
       "    </tr>\n",
       "    <tr>\n",
       "      <th>4</th>\n",
       "      <td>Aeropyrum pernix</td>\n",
       "      <td>Q9YA47</td>\n",
       "      <td>C00159</td>\n",
       "      <td>-0.958607</td>\n",
       "      <td>MAEVVAVDVGATWVRMAIVRGGVIEAIKRERNPGTEEGLERVLQGL...</td>\n",
       "    </tr>\n",
       "    <tr>\n",
       "      <th>...</th>\n",
       "      <td>...</td>\n",
       "      <td>...</td>\n",
       "      <td>...</td>\n",
       "      <td>...</td>\n",
       "      <td>...</td>\n",
       "    </tr>\n",
       "    <tr>\n",
       "      <th>352</th>\n",
       "      <td>Xenopus laevis</td>\n",
       "      <td>P08734</td>\n",
       "      <td>C00631</td>\n",
       "      <td>-1.221849</td>\n",
       "      <td>MSIKNIRAREIFDSRGNPTVEVDLYTCKGLFRAAVPSGASTGIYEA...</td>\n",
       "    </tr>\n",
       "    <tr>\n",
       "      <th>353</th>\n",
       "      <td>Xenopus laevis</td>\n",
       "      <td>P30759</td>\n",
       "      <td>C00062</td>\n",
       "      <td>1.542824</td>\n",
       "      <td>MAKERHSVGVIGAPFSKGQPRRGVEEGPKYLREAGLIEKLREFGND...</td>\n",
       "    </tr>\n",
       "    <tr>\n",
       "      <th>354</th>\n",
       "      <td>Yersinia enterocolitica</td>\n",
       "      <td>P15273</td>\n",
       "      <td>C03360</td>\n",
       "      <td>0.414973</td>\n",
       "      <td>MNLSLSDLHRQVSRLVQQESGDCTGKLRGNVAANKETTFQGLTIAS...</td>\n",
       "    </tr>\n",
       "    <tr>\n",
       "      <th>355</th>\n",
       "      <td>Zymobacter palmae</td>\n",
       "      <td>Q8KTX6</td>\n",
       "      <td>C00022</td>\n",
       "      <td>-0.384265</td>\n",
       "      <td>MYTVGMYLAERLAQIGLKHHFAVAGDYNLVLLDQLLLNKDMEQVYC...</td>\n",
       "    </tr>\n",
       "    <tr>\n",
       "      <th>356</th>\n",
       "      <td>Zymomonas mobilis</td>\n",
       "      <td>P06672</td>\n",
       "      <td>C00022</td>\n",
       "      <td>-0.196702</td>\n",
       "      <td>MSYTVGTYLAERLVQIGLKHHFAVAGDYNLVLLDNLLLNKNMEQVY...</td>\n",
       "    </tr>\n",
       "  </tbody>\n",
       "</table>\n",
       "<p>275 rows × 5 columns</p>\n",
       "</div>"
      ],
      "text/plain": [
       "                     Organism UniprotID KEGG ID  log10_KM  \\\n",
       "0    Acetobacter pasteurianus    Q8L388  C00022  0.149317   \n",
       "1            Aeropyrum pernix    Q9YA47  C00002 -0.376751   \n",
       "2            Aeropyrum pernix    Q9YA47  C00031 -1.356547   \n",
       "3            Aeropyrum pernix    Q9YA47  C00095 -0.823909   \n",
       "4            Aeropyrum pernix    Q9YA47  C00159 -0.958607   \n",
       "..                        ...       ...     ...       ...   \n",
       "352            Xenopus laevis    P08734  C00631 -1.221849   \n",
       "353            Xenopus laevis    P30759  C00062  1.542824   \n",
       "354   Yersinia enterocolitica    P15273  C03360  0.414973   \n",
       "355         Zymobacter palmae    Q8KTX6  C00022 -0.384265   \n",
       "356         Zymomonas mobilis    P06672  C00022 -0.196702   \n",
       "\n",
       "                                              Sequence  \n",
       "0    MTYTVGMYLAERLVQIGLKHHFAVGGDYNLVLLDQLLLNKDMKQIY...  \n",
       "1    MAEVVAVDVGATWVRMAIVRGGVIEAIKRERNPGTEEGLERVLQGL...  \n",
       "2    MAEVVAVDVGATWVRMAIVRGGVIEAIKRERNPGTEEGLERVLQGL...  \n",
       "3    MAEVVAVDVGATWVRMAIVRGGVIEAIKRERNPGTEEGLERVLQGL...  \n",
       "4    MAEVVAVDVGATWVRMAIVRGGVIEAIKRERNPGTEEGLERVLQGL...  \n",
       "..                                                 ...  \n",
       "352  MSIKNIRAREIFDSRGNPTVEVDLYTCKGLFRAAVPSGASTGIYEA...  \n",
       "353  MAKERHSVGVIGAPFSKGQPRRGVEEGPKYLREAGLIEKLREFGND...  \n",
       "354  MNLSLSDLHRQVSRLVQQESGDCTGKLRGNVAANKETTFQGLTIAS...  \n",
       "355  MYTVGMYLAERLAQIGLKHHFAVAGDYNLVLLDQLLLNKDMEQVYC...  \n",
       "356  MSYTVGTYLAERLVQIGLKHHFAVAGDYNLVLLDNLLLNKNMEQVY...  \n",
       "\n",
       "[275 rows x 5 columns]"
      ]
     },
     "execution_count": 20,
     "metadata": {},
     "output_type": "execute_result"
    }
   ],
   "source": [
    "sabio_df = sabio_df.loc[sabio_df[\"Sequence\"] != \"\"]\n",
    "sabio_df"
   ]
  },
  {
   "cell_type": "code",
   "execution_count": 21,
   "metadata": {},
   "outputs": [],
   "source": [
    "sabio_df.reset_index(inplace = True, drop = True)\n",
    "sabio_df.to_pickle(join(datasets_dir, \"Sabio_data\", \"sabio_df_checkpoint2_V2.pkl\"))"
   ]
  },
  {
   "cell_type": "code",
   "execution_count": 22,
   "metadata": {},
   "outputs": [],
   "source": [
    "#sabio_df.to_csv(join(datasets_dir, \"Sabio_data\", \"sabio_df_checkpoint2.csv\"))\n",
    "#sabio_df = pd.read_csv(join(datasets_dir, \"Sabio_data\", \"sabio_df_checkpoint2.csv\"))"
   ]
  },
  {
   "cell_type": "code",
   "execution_count": 23,
   "metadata": {},
   "outputs": [],
   "source": [
    "sabio_df = pd.read_pickle(join(datasets_dir, \"Sabio_data\", \"sabio_df_checkpoint2_V2.pkl\"))"
   ]
  },
  {
   "cell_type": "markdown",
   "metadata": {},
   "source": [
    "## 4. Calculating UniRep vectors for the amino acid sequences of the enzymes"
   ]
  },
  {
   "cell_type": "markdown",
   "metadata": {},
   "source": [
    "To calculate the UniRep vectors, we use code that is copied from Martin Enqvist's github repository (https://github.com/EngqvistLab/UniRep50). Enqvist's code relies on the UniRep representation created by George Church's group (https://github.com/churchlab/UniRep)"
   ]
  },
  {
   "cell_type": "markdown",
   "metadata": {},
   "source": [
    "To calculate the UniRep vectors, we need to store all sequences in a FASTA-file:"
   ]
  },
  {
   "cell_type": "code",
   "execution_count": 24,
   "metadata": {},
   "outputs": [],
   "source": [
    "ofile = open(join(datasets_dir, \"enzyme_data\", \"all_sequences_sabio.fasta\"), \"w\")\n",
    "for ind in sabio_df.index:\n",
    "    seq = sabio_df[\"Sequence\"][ind]\n",
    "    if not pd.isnull(seq):\n",
    "        seq_end = seq.find(\"#\")\n",
    "        ofile.write(\">\" + str(ind) + \"\\n\" +seq[:seq_end] + \"\\n\")\n",
    "ofile.close()"
   ]
  },
  {
   "cell_type": "markdown",
   "metadata": {},
   "source": [
    "#### <span style=\"color:red\">Attetntion: Calculating the UniRep vectors requires tensorflow version 1.15.0 (in compariosn to the Graph Neural Network, for which tensorflow 2 is required). Also calculating the UniRep vectors takes a lot of time if tensorflow is not running on GPU.</span>"
   ]
  },
  {
   "cell_type": "code",
   "execution_count": 25,
   "metadata": {},
   "outputs": [],
   "source": [
    "X_unirep = compute_unirep_representations(fasta_file = join(datasets_dir, \"enzyme_data\", \"all_sequences_sabio.fasta\"),\n",
    "                                          rep_file = join(datasets_dir, \"enzyme_data\", \"unirep_representations_sabio.tsv\"))"
   ]
  },
  {
   "cell_type": "code",
   "execution_count": 26,
   "metadata": {},
   "outputs": [
    {
     "name": "stderr",
     "output_type": "stream",
     "text": [
      ".\\additional_code\\functions_for_data_preprocessing.py:358: SettingWithCopyWarning: \n",
      "A value is trying to be set on a copy of a slice from a DataFrame\n",
      "\n",
      "See the caveats in the documentation: https://pandas.pydata.org/pandas-docs/stable/user_guide/indexing.html#returning-a-view-versus-a-copy\n",
      "  df[\"Unirep\"][ind] = X_Unirep[i,1:]\n",
      "C:\\Users\\alexk\\anaconda3\\envs\\Predicting_Km\\lib\\site-packages\\pandas\\core\\indexing.py:670: SettingWithCopyWarning: \n",
      "A value is trying to be set on a copy of a slice from a DataFrame\n",
      "\n",
      "See the caveats in the documentation: https://pandas.pydata.org/pandas-docs/stable/user_guide/indexing.html#returning-a-view-versus-a-copy\n",
      "  iloc._setitem_with_indexer(indexer, value)\n"
     ]
    },
    {
     "data": {
      "text/html": [
       "<div>\n",
       "<style scoped>\n",
       "    .dataframe tbody tr th:only-of-type {\n",
       "        vertical-align: middle;\n",
       "    }\n",
       "\n",
       "    .dataframe tbody tr th {\n",
       "        vertical-align: top;\n",
       "    }\n",
       "\n",
       "    .dataframe thead th {\n",
       "        text-align: right;\n",
       "    }\n",
       "</style>\n",
       "<table border=\"1\" class=\"dataframe\">\n",
       "  <thead>\n",
       "    <tr style=\"text-align: right;\">\n",
       "      <th></th>\n",
       "      <th>Organism</th>\n",
       "      <th>UniprotID</th>\n",
       "      <th>KEGG ID</th>\n",
       "      <th>log10_KM</th>\n",
       "      <th>Sequence</th>\n",
       "      <th>Unirep</th>\n",
       "    </tr>\n",
       "  </thead>\n",
       "  <tbody>\n",
       "    <tr>\n",
       "      <th>0</th>\n",
       "      <td>Acetobacter pasteurianus</td>\n",
       "      <td>Q8L388</td>\n",
       "      <td>C00022</td>\n",
       "      <td>0.149317</td>\n",
       "      <td>MTYTVGMYLAERLVQIGLKHHFAVGGDYNLVLLDQLLLNKDMKQIY...</td>\n",
       "      <td>[0.009362391999999999, 0.1846365, 0.16759616, ...</td>\n",
       "    </tr>\n",
       "    <tr>\n",
       "      <th>1</th>\n",
       "      <td>Aeropyrum pernix</td>\n",
       "      <td>Q9YA47</td>\n",
       "      <td>C00002</td>\n",
       "      <td>-0.376751</td>\n",
       "      <td>MAEVVAVDVGATWVRMAIVRGGVIEAIKRERNPGTEEGLERVLQGL...</td>\n",
       "      <td>[0.022074042000000002, -0.022069417, 0.0664232...</td>\n",
       "    </tr>\n",
       "    <tr>\n",
       "      <th>2</th>\n",
       "      <td>Aeropyrum pernix</td>\n",
       "      <td>Q9YA47</td>\n",
       "      <td>C00031</td>\n",
       "      <td>-1.356547</td>\n",
       "      <td>MAEVVAVDVGATWVRMAIVRGGVIEAIKRERNPGTEEGLERVLQGL...</td>\n",
       "      <td>[0.022074042000000002, -0.022069417, 0.0664232...</td>\n",
       "    </tr>\n",
       "    <tr>\n",
       "      <th>3</th>\n",
       "      <td>Aeropyrum pernix</td>\n",
       "      <td>Q9YA47</td>\n",
       "      <td>C00095</td>\n",
       "      <td>-0.823909</td>\n",
       "      <td>MAEVVAVDVGATWVRMAIVRGGVIEAIKRERNPGTEEGLERVLQGL...</td>\n",
       "      <td>[0.022074042000000002, -0.022069417, 0.0664232...</td>\n",
       "    </tr>\n",
       "    <tr>\n",
       "      <th>4</th>\n",
       "      <td>Aeropyrum pernix</td>\n",
       "      <td>Q9YA47</td>\n",
       "      <td>C00159</td>\n",
       "      <td>-0.958607</td>\n",
       "      <td>MAEVVAVDVGATWVRMAIVRGGVIEAIKRERNPGTEEGLERVLQGL...</td>\n",
       "      <td>[0.022074042000000002, -0.022069417, 0.0664232...</td>\n",
       "    </tr>\n",
       "  </tbody>\n",
       "</table>\n",
       "</div>"
      ],
      "text/plain": [
       "                   Organism UniprotID KEGG ID  log10_KM  \\\n",
       "0  Acetobacter pasteurianus    Q8L388  C00022  0.149317   \n",
       "1          Aeropyrum pernix    Q9YA47  C00002 -0.376751   \n",
       "2          Aeropyrum pernix    Q9YA47  C00031 -1.356547   \n",
       "3          Aeropyrum pernix    Q9YA47  C00095 -0.823909   \n",
       "4          Aeropyrum pernix    Q9YA47  C00159 -0.958607   \n",
       "\n",
       "                                            Sequence  \\\n",
       "0  MTYTVGMYLAERLVQIGLKHHFAVGGDYNLVLLDQLLLNKDMKQIY...   \n",
       "1  MAEVVAVDVGATWVRMAIVRGGVIEAIKRERNPGTEEGLERVLQGL...   \n",
       "2  MAEVVAVDVGATWVRMAIVRGGVIEAIKRERNPGTEEGLERVLQGL...   \n",
       "3  MAEVVAVDVGATWVRMAIVRGGVIEAIKRERNPGTEEGLERVLQGL...   \n",
       "4  MAEVVAVDVGATWVRMAIVRGGVIEAIKRERNPGTEEGLERVLQGL...   \n",
       "\n",
       "                                              Unirep  \n",
       "0  [0.009362391999999999, 0.1846365, 0.16759616, ...  \n",
       "1  [0.022074042000000002, -0.022069417, 0.0664232...  \n",
       "2  [0.022074042000000002, -0.022069417, 0.0664232...  \n",
       "3  [0.022074042000000002, -0.022069417, 0.0664232...  \n",
       "4  [0.022074042000000002, -0.022069417, 0.0664232...  "
      ]
     },
     "execution_count": 26,
     "metadata": {},
     "output_type": "execute_result"
    }
   ],
   "source": [
    "Unirep_df = pd.read_csv(join(datasets_dir, \"enzyme_data\", \"unirep_representations_sabio.tsv\"), sep = \"\\t\")\n",
    "sabio_df = add_Unirep_vector(sabio_df, Unirep_df)\n",
    "sabio_df.head()"
   ]
  },
  {
   "cell_type": "markdown",
   "metadata": {},
   "source": [
    "## 5. Adding GNN fingerprints, MW, and LogP for the substrates"
   ]
  },
  {
   "cell_type": "markdown",
   "metadata": {},
   "source": [
    "### (a) Add MW and LogP for substrate to DataFrame"
   ]
  },
  {
   "cell_type": "code",
   "execution_count": 27,
   "metadata": {},
   "outputs": [
    {
     "name": "stderr",
     "output_type": "stream",
     "text": [
      "C:\\Users\\alexk\\anaconda3\\envs\\Predicting_Km\\lib\\site-packages\\ipykernel_launcher.py:11: SettingWithCopyWarning: \n",
      "A value is trying to be set on a copy of a slice from a DataFrame\n",
      "\n",
      "See the caveats in the documentation: https://pandas.pydata.org/pandas-docs/stable/user_guide/indexing.html#returning-a-view-versus-a-copy\n",
      "  # This is added back by InteractiveShellApp.init_path()\n",
      "C:\\Users\\alexk\\anaconda3\\envs\\Predicting_Km\\lib\\site-packages\\ipykernel_launcher.py:12: SettingWithCopyWarning: \n",
      "A value is trying to be set on a copy of a slice from a DataFrame\n",
      "\n",
      "See the caveats in the documentation: https://pandas.pydata.org/pandas-docs/stable/user_guide/indexing.html#returning-a-view-versus-a-copy\n",
      "  if sys.path[0] == '':\n"
     ]
    }
   ],
   "source": [
    "sabio_df[\"MW\"] = np.nan\n",
    "sabio_df[\"LogP\"] = np.nan\n",
    "\n",
    "for ind in sabio_df.index:\n",
    "    kegg_id = sabio_df[\"KEGG ID\"][ind]\n",
    "    try:\n",
    "        mol = Chem.MolFromMolFile(datasets_dir +  \"/mol-files/\" + kegg_id + '.mol')\n",
    "    except OSError:\n",
    "        None\n",
    "    if mol is not None:\n",
    "        sabio_df[\"MW\"][ind] = Descriptors.ExactMolWt(mol)\n",
    "        sabio_df[\"LogP\"][ind] = Crippen.MolLogP(mol)"
   ]
  },
  {
   "cell_type": "code",
   "execution_count": 28,
   "metadata": {},
   "outputs": [
    {
     "name": "stdout",
     "output_type": "stream",
     "text": [
      "Could not create input for substrate ID C01794\n"
     ]
    }
   ],
   "source": [
    "droplist = []\n",
    "for ind in sabio_df.index:\n",
    "    droplist.append(calculate_and_save_input_matrixes(sample_ID = \"sabio_\" + str(ind), \n",
    "                                                      molecule_ID = sabio_df[\"KEGG ID\"][ind],\n",
    "                                                      unirep = sabio_df[\"Unirep\"][ind], \n",
    "                                                      extras = np.array([sabio_df[\"MW\"][ind], sabio_df[\"LogP\"][ind]]),\n",
    "                                                      save_folder = join(datasets_dir, \"GNN_input_data\")))"
   ]
  },
  {
   "cell_type": "code",
   "execution_count": 29,
   "metadata": {},
   "outputs": [],
   "source": [
    "droplist = list(np.array(droplist)[np.array(droplist) != -1])\n",
    "sabio_df.drop(droplist, inplace = True)"
   ]
  },
  {
   "cell_type": "code",
   "execution_count": 30,
   "metadata": {},
   "outputs": [],
   "source": [
    "sabio_df.to_pickle(join(datasets_dir, \"Sabio_data\", \"sabio_df_checkpoint3_V2.pkl\"))"
   ]
  },
  {
   "cell_type": "code",
   "execution_count": 31,
   "metadata": {},
   "outputs": [],
   "source": [
    "sabio_df = pd.read_pickle(join(datasets_dir, \"Sabio_data\", \"sabio_df_checkpoint3_V2.pkl\"))"
   ]
  },
  {
   "cell_type": "code",
   "execution_count": 32,
   "metadata": {},
   "outputs": [
    {
     "data": {
      "text/html": [
       "<div>\n",
       "<style scoped>\n",
       "    .dataframe tbody tr th:only-of-type {\n",
       "        vertical-align: middle;\n",
       "    }\n",
       "\n",
       "    .dataframe tbody tr th {\n",
       "        vertical-align: top;\n",
       "    }\n",
       "\n",
       "    .dataframe thead th {\n",
       "        text-align: right;\n",
       "    }\n",
       "</style>\n",
       "<table border=\"1\" class=\"dataframe\">\n",
       "  <thead>\n",
       "    <tr style=\"text-align: right;\">\n",
       "      <th></th>\n",
       "      <th>Organism</th>\n",
       "      <th>UniprotID</th>\n",
       "      <th>KEGG ID</th>\n",
       "      <th>log10_KM</th>\n",
       "      <th>Sequence</th>\n",
       "      <th>Unirep</th>\n",
       "      <th>MW</th>\n",
       "      <th>LogP</th>\n",
       "    </tr>\n",
       "  </thead>\n",
       "  <tbody>\n",
       "    <tr>\n",
       "      <th>0</th>\n",
       "      <td>Acetobacter pasteurianus</td>\n",
       "      <td>Q8L388</td>\n",
       "      <td>C00022</td>\n",
       "      <td>0.149317</td>\n",
       "      <td>MTYTVGMYLAERLVQIGLKHHFAVGGDYNLVLLDQLLLNKDMKQIY...</td>\n",
       "      <td>[0.009362391999999999, 0.1846365, 0.16759616, ...</td>\n",
       "      <td>88.016044</td>\n",
       "      <td>-0.34000</td>\n",
       "    </tr>\n",
       "    <tr>\n",
       "      <th>1</th>\n",
       "      <td>Aeropyrum pernix</td>\n",
       "      <td>Q9YA47</td>\n",
       "      <td>C00002</td>\n",
       "      <td>-0.376751</td>\n",
       "      <td>MAEVVAVDVGATWVRMAIVRGGVIEAIKRERNPGTEEGLERVLQGL...</td>\n",
       "      <td>[0.022074042000000002, -0.022069417, 0.0664232...</td>\n",
       "      <td>506.995745</td>\n",
       "      <td>-1.62900</td>\n",
       "    </tr>\n",
       "    <tr>\n",
       "      <th>2</th>\n",
       "      <td>Aeropyrum pernix</td>\n",
       "      <td>Q9YA47</td>\n",
       "      <td>C00031</td>\n",
       "      <td>-1.356547</td>\n",
       "      <td>MAEVVAVDVGATWVRMAIVRGGVIEAIKRERNPGTEEGLERVLQGL...</td>\n",
       "      <td>[0.022074042000000002, -0.022069417, 0.0664232...</td>\n",
       "      <td>180.063388</td>\n",
       "      <td>-3.22140</td>\n",
       "    </tr>\n",
       "    <tr>\n",
       "      <th>3</th>\n",
       "      <td>Aeropyrum pernix</td>\n",
       "      <td>Q9YA47</td>\n",
       "      <td>C00095</td>\n",
       "      <td>-0.823909</td>\n",
       "      <td>MAEVVAVDVGATWVRMAIVRGGVIEAIKRERNPGTEEGLERVLQGL...</td>\n",
       "      <td>[0.022074042000000002, -0.022069417, 0.0664232...</td>\n",
       "      <td>180.063388</td>\n",
       "      <td>-3.21980</td>\n",
       "    </tr>\n",
       "    <tr>\n",
       "      <th>4</th>\n",
       "      <td>Aeropyrum pernix</td>\n",
       "      <td>Q9YA47</td>\n",
       "      <td>C00159</td>\n",
       "      <td>-0.958607</td>\n",
       "      <td>MAEVVAVDVGATWVRMAIVRGGVIEAIKRERNPGTEEGLERVLQGL...</td>\n",
       "      <td>[0.022074042000000002, -0.022069417, 0.0664232...</td>\n",
       "      <td>180.063388</td>\n",
       "      <td>-3.22140</td>\n",
       "    </tr>\n",
       "    <tr>\n",
       "      <th>...</th>\n",
       "      <td>...</td>\n",
       "      <td>...</td>\n",
       "      <td>...</td>\n",
       "      <td>...</td>\n",
       "      <td>...</td>\n",
       "      <td>...</td>\n",
       "      <td>...</td>\n",
       "      <td>...</td>\n",
       "    </tr>\n",
       "    <tr>\n",
       "      <th>270</th>\n",
       "      <td>Xenopus laevis</td>\n",
       "      <td>P08734</td>\n",
       "      <td>C00631</td>\n",
       "      <td>-1.221849</td>\n",
       "      <td>MSIKNIRAREIFDSRGNPTVEVDLYTCKGLFRAAVPSGASTGIYEA...</td>\n",
       "      <td>[0.0051546856, 0.12054449, 0.13123453, -0.0241...</td>\n",
       "      <td>185.992939</td>\n",
       "      <td>-1.45880</td>\n",
       "    </tr>\n",
       "    <tr>\n",
       "      <th>271</th>\n",
       "      <td>Xenopus laevis</td>\n",
       "      <td>P30759</td>\n",
       "      <td>C00062</td>\n",
       "      <td>1.542824</td>\n",
       "      <td>MAKERHSVGVIGAPFSKGQPRRGVEEGPKYLREAGLIEKLREFGND...</td>\n",
       "      <td>[0.006347216, 0.12308962, 0.18849312, -0.03078...</td>\n",
       "      <td>174.111676</td>\n",
       "      <td>-1.33843</td>\n",
       "    </tr>\n",
       "    <tr>\n",
       "      <th>272</th>\n",
       "      <td>Yersinia enterocolitica</td>\n",
       "      <td>P15273</td>\n",
       "      <td>C03360</td>\n",
       "      <td>0.414973</td>\n",
       "      <td>MNLSLSDLHRQVSRLVQQESGDCTGKLRGNVAANKETTFQGLTIAS...</td>\n",
       "      <td>[0.0031505841999999997, -0.02765534, 0.0514622...</td>\n",
       "      <td>218.993274</td>\n",
       "      <td>1.06630</td>\n",
       "    </tr>\n",
       "    <tr>\n",
       "      <th>273</th>\n",
       "      <td>Zymobacter palmae</td>\n",
       "      <td>Q8KTX6</td>\n",
       "      <td>C00022</td>\n",
       "      <td>-0.384265</td>\n",
       "      <td>MYTVGMYLAERLAQIGLKHHFAVAGDYNLVLLDQLLLNKDMEQVYC...</td>\n",
       "      <td>[0.007651806, 0.19671498, 0.11644461, -0.01789...</td>\n",
       "      <td>88.016044</td>\n",
       "      <td>-0.34000</td>\n",
       "    </tr>\n",
       "    <tr>\n",
       "      <th>274</th>\n",
       "      <td>Zymomonas mobilis</td>\n",
       "      <td>P06672</td>\n",
       "      <td>C00022</td>\n",
       "      <td>-0.196702</td>\n",
       "      <td>MSYTVGTYLAERLVQIGLKHHFAVAGDYNLVLLDNLLLNKNMEQVY...</td>\n",
       "      <td>[0.0077948193, 0.23418002, 0.15609443, -0.0204...</td>\n",
       "      <td>88.016044</td>\n",
       "      <td>-0.34000</td>\n",
       "    </tr>\n",
       "  </tbody>\n",
       "</table>\n",
       "<p>274 rows × 8 columns</p>\n",
       "</div>"
      ],
      "text/plain": [
       "                     Organism UniprotID KEGG ID  log10_KM  \\\n",
       "0    Acetobacter pasteurianus    Q8L388  C00022  0.149317   \n",
       "1            Aeropyrum pernix    Q9YA47  C00002 -0.376751   \n",
       "2            Aeropyrum pernix    Q9YA47  C00031 -1.356547   \n",
       "3            Aeropyrum pernix    Q9YA47  C00095 -0.823909   \n",
       "4            Aeropyrum pernix    Q9YA47  C00159 -0.958607   \n",
       "..                        ...       ...     ...       ...   \n",
       "270            Xenopus laevis    P08734  C00631 -1.221849   \n",
       "271            Xenopus laevis    P30759  C00062  1.542824   \n",
       "272   Yersinia enterocolitica    P15273  C03360  0.414973   \n",
       "273         Zymobacter palmae    Q8KTX6  C00022 -0.384265   \n",
       "274         Zymomonas mobilis    P06672  C00022 -0.196702   \n",
       "\n",
       "                                              Sequence  \\\n",
       "0    MTYTVGMYLAERLVQIGLKHHFAVGGDYNLVLLDQLLLNKDMKQIY...   \n",
       "1    MAEVVAVDVGATWVRMAIVRGGVIEAIKRERNPGTEEGLERVLQGL...   \n",
       "2    MAEVVAVDVGATWVRMAIVRGGVIEAIKRERNPGTEEGLERVLQGL...   \n",
       "3    MAEVVAVDVGATWVRMAIVRGGVIEAIKRERNPGTEEGLERVLQGL...   \n",
       "4    MAEVVAVDVGATWVRMAIVRGGVIEAIKRERNPGTEEGLERVLQGL...   \n",
       "..                                                 ...   \n",
       "270  MSIKNIRAREIFDSRGNPTVEVDLYTCKGLFRAAVPSGASTGIYEA...   \n",
       "271  MAKERHSVGVIGAPFSKGQPRRGVEEGPKYLREAGLIEKLREFGND...   \n",
       "272  MNLSLSDLHRQVSRLVQQESGDCTGKLRGNVAANKETTFQGLTIAS...   \n",
       "273  MYTVGMYLAERLAQIGLKHHFAVAGDYNLVLLDQLLLNKDMEQVYC...   \n",
       "274  MSYTVGTYLAERLVQIGLKHHFAVAGDYNLVLLDNLLLNKNMEQVY...   \n",
       "\n",
       "                                                Unirep          MW     LogP  \n",
       "0    [0.009362391999999999, 0.1846365, 0.16759616, ...   88.016044 -0.34000  \n",
       "1    [0.022074042000000002, -0.022069417, 0.0664232...  506.995745 -1.62900  \n",
       "2    [0.022074042000000002, -0.022069417, 0.0664232...  180.063388 -3.22140  \n",
       "3    [0.022074042000000002, -0.022069417, 0.0664232...  180.063388 -3.21980  \n",
       "4    [0.022074042000000002, -0.022069417, 0.0664232...  180.063388 -3.22140  \n",
       "..                                                 ...         ...      ...  \n",
       "270  [0.0051546856, 0.12054449, 0.13123453, -0.0241...  185.992939 -1.45880  \n",
       "271  [0.006347216, 0.12308962, 0.18849312, -0.03078...  174.111676 -1.33843  \n",
       "272  [0.0031505841999999997, -0.02765534, 0.0514622...  218.993274  1.06630  \n",
       "273  [0.007651806, 0.19671498, 0.11644461, -0.01789...   88.016044 -0.34000  \n",
       "274  [0.0077948193, 0.23418002, 0.15609443, -0.0204...   88.016044 -0.34000  \n",
       "\n",
       "[274 rows x 8 columns]"
      ]
     },
     "execution_count": 32,
     "metadata": {},
     "output_type": "execute_result"
    }
   ],
   "source": [
    "sabio_df"
   ]
  },
  {
   "cell_type": "markdown",
   "metadata": {},
   "source": [
    "### (b) Calculating GNN Fingerprints"
   ]
  },
  {
   "cell_type": "code",
   "execution_count": 33,
   "metadata": {},
   "outputs": [],
   "source": [
    "batch_size = 64\n",
    "D = 50\n",
    "learning_rate = 0.05\n",
    "epochs = 50\n",
    "l2_reg_fc = 1\n",
    "l2_reg_conv = 0.01\n",
    "rho = 0.95\n",
    "\n",
    "\n",
    "model = DMPNN(l2_reg_conv = l2_reg_conv, l2_reg_fc = l2_reg_fc, learning_rate = learning_rate,\n",
    "                  D = D, N = N, F1 = F1, F2 = F2, F= F, drop_rate = 0.0, ada_rho = rho)\n",
    "model.load_weights(join(datasets_dir, \"model_weights\", \"saved_model_GNN_best_hyperparameters\"))\n",
    "\n",
    "get_fingerprint_fct = K.function([model.layers[0].input, model.layers[26].input,  model.layers[3].input, model.layers[36].input],\n",
    "                                  [model.layers[-10].output])"
   ]
  },
  {
   "cell_type": "code",
   "execution_count": 34,
   "metadata": {},
   "outputs": [],
   "source": [
    "def get_substrate_representations(df, prefix):\n",
    "    df[\"GNN FP\"] = \"\"\n",
    "    i = 0\n",
    "    n = len(df)\n",
    "    UniRep = np.zeros((64, 20))\n",
    "    \n",
    "    cid_all = list(df.index)\n",
    "    cid_all = [prefix + str(cid) for cid in cid_all]\n",
    "    \n",
    "    while i*64 <= n:\n",
    "        if (i+1)*64  <= n:\n",
    "            XE, X, A, extras = get_representation_input(cid_all[i*64:(i+1)*64])\n",
    "            representations = get_fingerprint_fct([np.array(XE), np.array(X),np.array(A),\n",
    "                                                   np.array(extras)])[0]\n",
    "            df[\"GNN FP\"][i*64:(i+1)*64] = list(representations[:, :52])\n",
    "        else:\n",
    "            print(i)\n",
    "            XE, X, A, extras = get_representation_input(cid_all[-64:])\n",
    "            representations = get_fingerprint_fct([np.array(XE), np.array(X),np.array(A), \n",
    "                                                   np.array(extras)])[0]\n",
    "            df[\"GNN FP\"][-64:] = list(representations[:, :52])\n",
    "        i += 1\n",
    "        \n",
    "    ### set all GNN FP-entries with no input matrices to np.nan:\n",
    "    all_X_matrices = os.listdir(input_data_folder)\n",
    "    for ind in df.index:\n",
    "        if prefix +str(ind) +\"_X.npy\" not in all_X_matrices:\n",
    "            df[\"GNN FP\"][ind] = np.nan\n",
    "    return(df)"
   ]
  },
  {
   "cell_type": "code",
   "execution_count": 35,
   "metadata": {
    "scrolled": false
   },
   "outputs": [
    {
     "name": "stderr",
     "output_type": "stream",
     "text": [
      "C:\\Users\\alexk\\anaconda3\\envs\\Predicting_Km\\lib\\site-packages\\ipykernel_launcher.py:15: SettingWithCopyWarning: \n",
      "A value is trying to be set on a copy of a slice from a DataFrame\n",
      "\n",
      "See the caveats in the documentation: https://pandas.pydata.org/pandas-docs/stable/user_guide/indexing.html#returning-a-view-versus-a-copy\n",
      "  from ipykernel import kernelapp as app\n",
      "C:\\Users\\alexk\\anaconda3\\envs\\Predicting_Km\\lib\\site-packages\\pandas\\core\\indexing.py:670: SettingWithCopyWarning: \n",
      "A value is trying to be set on a copy of a slice from a DataFrame\n",
      "\n",
      "See the caveats in the documentation: https://pandas.pydata.org/pandas-docs/stable/user_guide/indexing.html#returning-a-view-versus-a-copy\n",
      "  iloc._setitem_with_indexer(indexer, value)\n"
     ]
    },
    {
     "name": "stdout",
     "output_type": "stream",
     "text": [
      "4\n"
     ]
    },
    {
     "name": "stderr",
     "output_type": "stream",
     "text": [
      "C:\\Users\\alexk\\anaconda3\\envs\\Predicting_Km\\lib\\site-packages\\ipykernel_launcher.py:21: SettingWithCopyWarning: \n",
      "A value is trying to be set on a copy of a slice from a DataFrame\n",
      "\n",
      "See the caveats in the documentation: https://pandas.pydata.org/pandas-docs/stable/user_guide/indexing.html#returning-a-view-versus-a-copy\n"
     ]
    }
   ],
   "source": [
    "sabio_df = get_substrate_representations(df = sabio_df, prefix = \"sabio_\")"
   ]
  },
  {
   "cell_type": "markdown",
   "metadata": {},
   "source": [
    "## 6. Making predictions for all data points"
   ]
  },
  {
   "cell_type": "code",
   "execution_count": 36,
   "metadata": {},
   "outputs": [],
   "source": [
    "bst = pickle.load(open(join(datasets_dir, \"model_weights\", \"xgboost_model.dat\"), \"rb\"))"
   ]
  },
  {
   "cell_type": "code",
   "execution_count": 37,
   "metadata": {},
   "outputs": [],
   "source": [
    "fingerprints = np.array(list(sabio_df[\"GNN FP\"]))\n",
    "UniRep = np.array(list(sabio_df[\"Unirep\"]))\n",
    "\n",
    "X = np.concatenate([fingerprints, UniRep[:,:1900]], axis = 1)\n",
    "Y = np.array(list(sabio_df[\"log10_KM\"]))\n",
    "dsabio = xgb.DMatrix(X, label = Y)"
   ]
  },
  {
   "cell_type": "code",
   "execution_count": 38,
   "metadata": {},
   "outputs": [],
   "source": [
    "pred_sabio = bst.predict(dsabio)\n",
    "GB_enzyme_sub_test_MSE = np.mean(abs(pred_sabio - np.reshape(Y, (-1)))**2)\n",
    "GB_enzyme_sub_test_R2 = r2_score(np.reshape(Y, (-1,1)), pred_sabio)"
   ]
  },
  {
   "cell_type": "code",
   "execution_count": 39,
   "metadata": {},
   "outputs": [
    {
     "data": {
      "text/plain": [
       "(0.6651280406444395, 0.5009155548560822)"
      ]
     },
     "execution_count": 39,
     "metadata": {},
     "output_type": "execute_result"
    }
   ],
   "source": [
    "np.save(join(datasets_dir, \"training_results\", \"XGB_Sabio_MSE.npy\"), GB_enzyme_sub_test_MSE)\n",
    "np.save(join(datasets_dir, \"training_results\", \"XGB_Sabio_R.npy\"), GB_enzyme_sub_test_R2)\n",
    "GB_enzyme_sub_test_MSE, GB_enzyme_sub_test_R2"
   ]
  },
  {
   "cell_type": "code",
   "execution_count": 40,
   "metadata": {},
   "outputs": [
    {
     "data": {
      "image/png": "[encoded data removed]",
      "text/plain": [
       "<Figure size 576x576 with 1 Axes>"
      ]
     },
     "metadata": {
      "needs_background": "light"
     },
     "output_type": "display_data"
    }
   ],
   "source": [
    "fig, ax = plt.subplots(figsize= (8,8))\n",
    "plt.rcParams.update({'font.size': 28})\n",
    "\n",
    "\n",
    "plt.ylim(ymax = 4, ymin = -5)\n",
    "plt.xlim(xmax = 4, xmin = -5)\n",
    "\n",
    "ax.tick_params(axis='x', length=10)\n",
    "ax.tick_params(axis='y', length=10)\n",
    "ax.yaxis.set_label_coords(-0.13, 0.5)\n",
    "ax.xaxis.set_label_coords(0.5, -0.1)\n",
    "\n",
    "plt.ylabel(\"Predicted $K_M$-values \\n on $\\log_{10}$-scale\")\n",
    "plt.xlabel(\"True $K_M$-values \\n on $\\log_{10}$-scale\")\n",
    "plt.scatter(Y, pred_sabio, alpha = 0.7, s=20)\n",
    "plt.show()"
   ]
  }
 ],
 "metadata": {
  "kernelspec": {
   "display_name": "Python 3",
   "language": "python",
   "name": "python3"
  },
  "language_info": {
   "codemirror_mode": {
    "name": "ipython",
    "version": 3
   },
   "file_extension": ".py",
   "mimetype": "text/x-python",
   "name": "python",
   "nbconvert_exporter": "python",
   "pygments_lexer": "ipython3",
   "version": "3.7.0"
  }
 },
 "nbformat": 4,
 "nbformat_minor": 4
}
