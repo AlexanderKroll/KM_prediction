{
 "cells": [
  {
   "cell_type": "code",
   "execution_count": null,
   "metadata": {},
   "outputs": [],
   "source": [
    "from downloading_BiGG_models import *\n",
    "import json"
   ]
  },
  {
   "cell_type": "code",
   "execution_count": null,
   "metadata": {},
   "outputs": [],
   "source": [
    "model_IDs = [\"e_coli_core\", \"iAB_RBC_283\", \"iAF1260\", \"iAF1260b\", \"iAF692\", \"iAF987\", \"iAM_Pb448\",\n",
    "             \"iAM_Pc455\", \"iAM_Pf480\", \"iAM_Pk459\", \"iAM_Pv461\", \"iAPECO1_1312\", \"iAT_PLT_636\",\n",
    "             \"iB21_1397\", \"iBWG_1329\", \"ic_1306\", \"iCHOv1\", \"iCHOv1_DG44\", \"iCN718\", \"iCN900\", \"iE2348C_1286\",\n",
    "            \"iEC042_1314\", \"iEC1344_C\", \"iEC1349_Crooks\", \"iEC1356_Bl21DE3\", \"iEC1364_W\",\n",
    "            \"iEC1368_DH5a\", \"iEC1372_W3110\", \"iEC55989_1330\", \"iECABU_c1320\", \"iECB_1328\", \"iECBD_1354\",\n",
    "            \"iECD_1391\", \"iECDH10B_1368\", \"iEcDH1_1363\", \"iECDH1ME8569_1439\", \"iEcE24377_1341\",\n",
    "            \"iECED1_1282\", \"iECH74115_1262\", \"iEcHS_1320\", \"iECIAI1_1343\", \"iECIAI39_1322\", \n",
    "            \"iECNA114_1301\", \"iECO103_1326\", \"iECO111_1330\", \"iECO26_1355\", \"iECOK1_1307\", \"iEcolC_1368\",\n",
    "            \"iECP_1309\", \"iECs_1301\", \"iECS88_1305\", \"iECSE_1348\", \"iECSF_1327\", \"iEcSMS35_1347\",\n",
    "            \"iECSP_1301\", \"iECUMN_1333\", \"iECW_1372\", \"iEK1008\", \"iEKO11_1354\", \"iETEC_1333\", \"iG2583_1286\",\n",
    "            \"iHN637\", \"iIS312\", \n",
    "             \"iIS312_Amastigote\", \"iIS312_Epimastigote\", \"iIS312_Trypomastigote\", \"iIT341\", \"iJB785\", \"iJN1463\",\n",
    "            \"iJN678\", \"iJN746\", \"iJO1366\", \"iJR904\", \"iLB1027_lipid\", \"iLF82_1304\", \"iLJ478\", \"iML1515\",\n",
    "            \"iMM1415\", \"iMM904\", \"iND750\", \"iNF517\", \"iNJ661\", \"iNRG857_1313\", \"iPC815\", \"iRC1080\",\n",
    "            \"iS_1188\", \"iSB619\", \"iSbBS512_1146\", \"iSBO_1134\", \"iSDY_1059\", \"iSF_1195\", \"iSFV_1184\", \n",
    "            \"iSFxv_1172\", \"iSSON_1240\", \"iSynCJ816\", \"iUMN146_1321\", \"iUMNK88_1353\", \"iUTI89_1310\", \n",
    "            \"iWFL_1372\", \"iY75_1357\", \"iYL1228\", \"iYO844\", \"iYS1720\", \"iYS854\", \"iZ_1308\", \"RECON1\",\n",
    "            \"Recon3D\", \"STM_v1_0\"]"
   ]
  },
  {
   "cell_type": "code",
   "execution_count": null,
   "metadata": {},
   "outputs": [],
   "source": [
    "#model_IDs = [\"e_coli_core\", \"iAF1260\", \"iAF1260b\", \"iAF692\", \"iAF987\"]"
   ]
  },
  {
   "cell_type": "markdown",
   "metadata": {},
   "source": [
    "#### Create reaction DataFrame for all BiGG models and text files with all genes in the model:"
   ]
  },
  {
   "cell_type": "code",
   "execution_count": null,
   "metadata": {
    "scrolled": true
   },
   "outputs": [],
   "source": [
    "for model_ID in model_IDs:\n",
    "    print(model_ID)\n",
    "    \n",
    "    try:\n",
    "        os.mkdir(join(datasets_dir, \"BiGG_GSM\", model_ID))\n",
    "    \n",
    "        model_metabolites, model_reactions, df_reactions = download_model_information(bigg_ID = model_ID)\n",
    "        model_metabolites_list = [met[\"id\"] for met in model_metabolites]\n",
    "        model_reactions_list = [reaction[\"id\"] for reaction in model_reactions]\n",
    "        with open(join(datasets_dir, \"BiGG_GSM\", model_ID, 'model_metabolites.txt'), 'w') as outfile:\n",
    "            json.dump(model_metabolites, outfile)\n",
    "        np.save(join(datasets_dir, \"BiGG_GSM\", model_ID, 'model_metabolites_list.npy'),\n",
    "                model_metabolites_list)    \n",
    "\n",
    "        df_reactions = process_reactions_DataFrame(df_reactions, model_reactions, model_reactions_list)\n",
    "        print(\"There are enzymatic %s reactions\" % len(df_reactions))\n",
    "        print(\"Reactions without gene reaction rules: %s\" %len(df_reactions.loc[df_reactions[\"gene_reaction_rule\"] == \"\"]))\n",
    "\n",
    "        create_txt_file_with_all_genes(df_reactions, model_ID)\n",
    "\n",
    "        df_reactions.to_pickle(join(datasets_dir, \"BiGG_GSM\", model_ID, \"df_reactions.pkl\"))\n",
    "    \n",
    "    except FileExistsError: pass"
   ]
  },
  {
   "cell_type": "markdown",
   "metadata": {},
   "source": [
    "#### Use the created files as the input for the Uniprot mapping service"
   ]
  },
  {
   "cell_type": "code",
   "execution_count": null,
   "metadata": {},
   "outputs": [],
   "source": [
    "model_IDs = os.listdir(join(datasets_dir, \"BiGG_GSM\"))"
   ]
  },
  {
   "cell_type": "markdown",
   "metadata": {},
   "source": [
    "Load and map the results:"
   ]
  },
  {
   "cell_type": "code",
   "execution_count": null,
   "metadata": {
    "scrolled": true
   },
   "outputs": [],
   "source": [
    "for model_ID in model_IDs:\n",
    "    print(model_ID)\n",
    "    df_reactions = pd.read_pickle(join(datasets_dir, \"BiGG_GSM\", model_ID, \"df_reactions.pkl\"))\n",
    "    df_reactions = add_Uniprot_IDs(df_reactions, model_ID)\n",
    "    print(\"For %s out of %s reactions we don't have a Uniprot ID, yet.\" % \n",
    "          (len(df_reactions.loc[pd.isnull(df_reactions[\"Uniprot ID\"])]), len(df_reactions)))\n",
    "    #get links for quick go mapping for Uniprot IDs:\n",
    "    get_Quick_GO_links_for_enzyme_complexes(df_reactions, model_ID)\n",
    "    df_reactions.to_pickle(join(datasets_dir, \"BiGG_GSM\", model_ID, \"df_reactions.pkl\"))\n",
    "    print(\" \")"
   ]
  },
  {
   "cell_type": "markdown",
   "metadata": {},
   "source": [
    "#### Downloading information about binding site from https://www.ebi.ac.uk/QuickGO via the Uniprot IDs:"
   ]
  },
  {
   "cell_type": "code",
   "execution_count": null,
   "metadata": {
    "scrolled": true
   },
   "outputs": [],
   "source": [
    "for model_ID in model_IDs[45:]:\n",
    "    print(model_ID)\n",
    "    df_reactions = pd.read_pickle(join(datasets_dir, \"BiGG_GSM\", model_ID, \"df_reactions.pkl\"))\n",
    "    \n",
    "    GO_df = load_GO_DataFrames(model_ID)\n",
    "    GO_UIDs = list(set(GO_df[\"GENE PRODUCT ID\"]))\n",
    "    df_reactions = add_Uniprot_ID_for_enzyme_complexes(df_reactions, GO_UIDs)\n",
    "    \n",
    "    print(\"For %s out of %s reactions we don't have a Uniprot ID.\" % \n",
    "          (len(df_reactions.loc[pd.isnull(df_reactions[\"Uniprot ID\"])]), len(df_reactions)))\n",
    "    df_reactions.to_pickle(join(datasets_dir, \"BiGG_GSM\", model_ID, \"df_reactions.pkl\"))\n",
    "    \n",
    "    \n",
    "    with open(join(datasets_dir, \"BiGG_GSM\", model_ID, 'model_metabolites.txt')) as json_file:\n",
    "        model_metabolites = json.load(json_file)\n",
    "    model_metabolites_list = list(np.load(join(datasets_dir, \"BiGG_GSM\", model_ID, 'model_metabolites_list.npy')))\n",
    "    \n",
    "    df_KM = create_KM_DataFrame(df_reactions)\n",
    "    df_KM = get_kegg_and_bigg_compound_ids(df_KM,  model_metabolites, model_metabolites_list)\n",
    "    df_KM = add_substrate_name(df_KM)\n",
    "    df_KM = find_KEGG_ID_by_synonym(df_KM)\n",
    "    df_KM = download_SMILES_or_KEGG_from_MetaNetX(df_KM)\n",
    "    df_KM = remove_small_mets(df_KM)\n",
    "    df_KM.to_pickle(join(datasets_dir, \"BiGG_GSM\", model_ID, \"df_KM_checkpoint_\" + model_ID + \".pkl\"))\n",
    "    \n",
    "    print(\"There are %s KM data points\" % len(df_KM))\n",
    "    print(\"Data points without KEGG ID and SMILES: %s\" \n",
    "          %len(df_KM.loc[pd.isnull(df_KM[\"KEGG ID\"])].loc[pd.isnull(df_KM[\"SMILES\"])]))\n",
    "    print(\"Data points without Uniprot ID: %s\" \n",
    "          %len(df_KM.loc[pd.isnull(df_KM[\"Uniprot ID\"])]))\n",
    "    print(\"Data points without KEGG ID, SMILES and Uniprot ID: %s\" \n",
    "          %len(df_KM.loc[pd.isnull(df_KM[\"KEGG ID\"])].loc[pd.isnull(df_KM[\"SMILES\"])].loc[pd.isnull(df_KM[\"Uniprot ID\"])]))\n",
    "    \n",
    "    print(\" \")"
   ]
  }
 ],
 "metadata": {
  "kernelspec": {
   "display_name": "Python 3",
   "language": "python",
   "name": "python3"
  },
  "language_info": {
   "codemirror_mode": {
    "name": "ipython",
    "version": 3
   },
   "file_extension": ".py",
   "mimetype": "text/x-python",
   "name": "python",
   "nbconvert_exporter": "python",
   "pygments_lexer": "ipython3",
   "version": "3.7.0"
  }
 },
 "nbformat": 4,
 "nbformat_minor": 4
}
